{
  "cells": [
    {
      "cell_type": "markdown",
      "metadata": {
        "id": "view-in-github",
        "colab_type": "text"
      },
      "source": [
        "<a href=\"https://colab.research.google.com/github/bongaaaaA/my_project1/blob/main/graduation_progect_CNN_with_VGG19.ipynb\" target=\"_parent\"><img src=\"https://colab.research.google.com/assets/colab-badge.svg\" alt=\"Open In Colab\"/></a>"
      ]
    },
    {
      "cell_type": "code",
      "execution_count": 216,
      "metadata": {
        "colab": {
          "base_uri": "https://localhost:8080/"
        },
        "id": "sIH63aVCu6MP",
        "outputId": "b9337f06-d1a8-43dd-8b3d-7ba5533ba6fa"
      },
      "outputs": [
        {
          "output_type": "stream",
          "name": "stdout",
          "text": [
            "data/color_blindness directoly already\n",
            "download dataset color blindness\n",
            "upload data from github\n"
          ]
        }
      ],
      "source": [
        "import requests\n",
        "import zipfile\n",
        "from pathlib import Path\n",
        "\n",
        "data_path = Path(\"data/\")\n",
        "image_path = data_path / \"color_blindness\"\n",
        "\n",
        "if image_path.is_dir():\n",
        "  print(f\"{image_path} directoly already\")\n",
        "else:\n",
        "  print(f\"{image_path} is not ready\")\n",
        "  image_path.mkdir(parents=True, exist_ok=True)\n",
        "\n",
        "with open(data_path / \"color_blindness.zip\", \"wb\") as f:\n",
        "  request = requests.get(\"https://github.com/bongaaaaA/datasets/raw/main/Color%20Recognition.zip\")\n",
        "  print(\"download dataset color blindness\")\n",
        "  f.write(request.content)\n",
        "\n",
        "with zipfile.ZipFile(data_path / \"color_blindness.zip\", \"r\") as file_zib :\n",
        "  print(\"upload data from github\")\n",
        "  file_zib.extractall(image_path)"
      ]
    },
    {
      "cell_type": "code",
      "execution_count": 217,
      "metadata": {
        "id": "oIH60k8nDwea"
      },
      "outputs": [],
      "source": [
        "import os\n",
        "\n",
        "def walk_data(dir_path):\n",
        "  \"\"\"\n",
        "  walk through dir_path return this content\n",
        "  \"\"\"\n",
        "  for dir_path, dir_name, file_name in os.walk(dir_path):\n",
        "    print(f\"there are {len(dir_name)} directory {len(file_name)} images in '{dir_path}'\")\n"
      ]
    },
    {
      "cell_type": "code",
      "execution_count": 218,
      "metadata": {
        "colab": {
          "base_uri": "https://localhost:8080/"
        },
        "id": "ledKK49bG0_W",
        "outputId": "06438acc-0606-4dc4-c6e5-bcbd155da97f"
      },
      "outputs": [
        {
          "output_type": "stream",
          "name": "stdout",
          "text": [
            "there are 1 directory 0 images in 'data/color_blindness'\n",
            "there are 3 directory 0 images in 'data/color_blindness/Color Recognition'\n",
            "there are 9 directory 0 images in 'data/color_blindness/Color Recognition/Test'\n",
            "there are 0 directory 5 images in 'data/color_blindness/Color Recognition/Test/white'\n",
            "there are 0 directory 5 images in 'data/color_blindness/Color Recognition/Test/violet'\n",
            "there are 0 directory 7 images in 'data/color_blindness/Color Recognition/Test/blue'\n",
            "there are 0 directory 5 images in 'data/color_blindness/Color Recognition/Test/brown'\n",
            "there are 0 directory 6 images in 'data/color_blindness/Color Recognition/Test/red'\n",
            "there are 0 directory 5 images in 'data/color_blindness/Color Recognition/Test/black'\n",
            "there are 1 directory 6 images in 'data/color_blindness/Color Recognition/Test/orange'\n",
            "there are 0 directory 0 images in 'data/color_blindness/Color Recognition/Test/orange/.ipynb_checkpoints'\n",
            "there are 0 directory 6 images in 'data/color_blindness/Color Recognition/Test/yellow'\n",
            "there are 0 directory 4 images in 'data/color_blindness/Color Recognition/Test/green'\n",
            "there are 9 directory 0 images in 'data/color_blindness/Color Recognition/Valid'\n",
            "there are 0 directory 48 images in 'data/color_blindness/Color Recognition/Valid/white'\n",
            "there are 0 directory 71 images in 'data/color_blindness/Color Recognition/Valid/violet'\n",
            "there are 0 directory 23 images in 'data/color_blindness/Color Recognition/Valid/blue'\n",
            "there are 0 directory 19 images in 'data/color_blindness/Color Recognition/Valid/brown'\n",
            "there are 0 directory 54 images in 'data/color_blindness/Color Recognition/Valid/red'\n",
            "there are 0 directory 15 images in 'data/color_blindness/Color Recognition/Valid/Black'\n",
            "there are 0 directory 74 images in 'data/color_blindness/Color Recognition/Valid/orange'\n",
            "there are 0 directory 48 images in 'data/color_blindness/Color Recognition/Valid/yellow'\n",
            "there are 0 directory 20 images in 'data/color_blindness/Color Recognition/Valid/green'\n",
            "there are 9 directory 0 images in 'data/color_blindness/Color Recognition/Train'\n",
            "there are 0 directory 48 images in 'data/color_blindness/Color Recognition/Train/white'\n",
            "there are 0 directory 71 images in 'data/color_blindness/Color Recognition/Train/violet'\n",
            "there are 0 directory 23 images in 'data/color_blindness/Color Recognition/Train/blue'\n",
            "there are 0 directory 19 images in 'data/color_blindness/Color Recognition/Train/brown'\n",
            "there are 0 directory 54 images in 'data/color_blindness/Color Recognition/Train/red'\n",
            "there are 0 directory 15 images in 'data/color_blindness/Color Recognition/Train/Black'\n",
            "there are 0 directory 74 images in 'data/color_blindness/Color Recognition/Train/orange'\n",
            "there are 0 directory 48 images in 'data/color_blindness/Color Recognition/Train/yellow'\n",
            "there are 0 directory 20 images in 'data/color_blindness/Color Recognition/Train/green'\n"
          ]
        }
      ],
      "source": [
        "walk_data(image_path)"
      ]
    },
    {
      "cell_type": "code",
      "execution_count": 219,
      "metadata": {
        "colab": {
          "base_uri": "https://localhost:8080/"
        },
        "id": "mdl8S0CyG5Kf",
        "outputId": "c788117f-3226-402e-a8db-ea1d8801d6be"
      },
      "outputs": [
        {
          "output_type": "execute_result",
          "data": {
            "text/plain": [
              "(PosixPath('data/color_blindness/Color Recognition/Train'),\n",
              " PosixPath('data/color_blindness/Color Recognition/Test'),\n",
              " PosixPath('data/color_blindness/Color Recognition/Valid'))"
            ]
          },
          "metadata": {},
          "execution_count": 219
        }
      ],
      "source": [
        "train_dir = image_path /\"Color Recognition\" / \"Train\"\n",
        "test_dir = image_path / \"Color Recognition\" /\"Test\"\n",
        "valid_dir = image_path / \"Color Recognition\" /\"Valid\"\n",
        "\n",
        "train_dir, test_dir, valid_dir"
      ]
    },
    {
      "cell_type": "code",
      "execution_count": 220,
      "metadata": {
        "colab": {
          "base_uri": "https://localhost:8080/"
        },
        "id": "esd51ISidSAe",
        "outputId": "210138c1-27ef-412b-8339-696e05467225"
      },
      "outputs": [
        {
          "output_type": "execute_result",
          "data": {
            "text/plain": [
              "PosixPath('data/color_blindness/Color Recognition/Test')"
            ]
          },
          "metadata": {},
          "execution_count": 220
        }
      ],
      "source": [
        "test_dir"
      ]
    },
    {
      "cell_type": "code",
      "execution_count": 221,
      "metadata": {
        "id": "r91d8-_TG5NI"
      },
      "outputs": [],
      "source": [
        "import random\n",
        "from PIL import Image"
      ]
    },
    {
      "cell_type": "code",
      "execution_count": 222,
      "metadata": {
        "colab": {
          "base_uri": "https://localhost:8080/"
        },
        "id": "nzOHZu-sTiGH",
        "outputId": "0696aa87-cc1b-4c6e-9512-427ab915fefd"
      },
      "outputs": [
        {
          "output_type": "execute_result",
          "data": {
            "text/plain": [
              "PosixPath('data/color_blindness')"
            ]
          },
          "metadata": {},
          "execution_count": 222
        }
      ],
      "source": [
        "image_path\n",
        "# img = 'data/color_blindness/Color Recognition'"
      ]
    },
    {
      "cell_type": "code",
      "execution_count": 223,
      "metadata": {
        "id": "Wou1ctKwf6zn"
      },
      "outputs": [],
      "source": [
        "# image_path_list"
      ]
    },
    {
      "cell_type": "code",
      "execution_count": 224,
      "metadata": {
        "colab": {
          "base_uri": "https://localhost:8080/",
          "height": 271
        },
        "id": "mw0gAD5WG5PB",
        "outputId": "22410e25-9243-474b-f543-2dfd7da2b0d1"
      },
      "outputs": [
        {
          "output_type": "stream",
          "name": "stdout",
          "text": [
            "random image path data/color_blindness/Color Recognition/Train/orange/orange - Copy (34).png\n",
            "class this image orange\n",
            "image height is :200 and width :150\n"
          ]
        },
        {
          "output_type": "execute_result",
          "data": {
            "text/plain": [
              "<PIL.PngImagePlugin.PngImageFile image mode=P size=150x200>"
            ],
            "image/png": "[encoded data removed]"
          },
          "metadata": {},
          "execution_count": 224
        }
      ],
      "source": [
        "# random.seed(42)\n",
        "image_path_list = list(image_path.glob(\"*/*/*/*.png\"))\n",
        "\n",
        "random_image = random.choice(image_path_list)\n",
        "\n",
        "image_class = random_image.parent.stem\n",
        "\n",
        "img = Image.open(random_image)\n",
        "\n",
        "print(f\"random image path {random_image}\")\n",
        "print(f\"class this image {image_class}\")\n",
        "print(f\"image height is :{img.height} and width :{img.width}\")\n",
        "img"
      ]
    },
    {
      "cell_type": "code",
      "execution_count": 225,
      "metadata": {
        "colab": {
          "base_uri": "https://localhost:8080/",
          "height": 616
        },
        "id": "10_Z4lKzTa7P",
        "outputId": "bf90167c-f60b-4f01-f187-8c5a5f1d8bf6"
      },
      "outputs": [
        {
          "output_type": "execute_result",
          "data": {
            "text/plain": [
              "(-0.5, 149.5, 199.5, -0.5)"
            ]
          },
          "metadata": {},
          "execution_count": 225
        },
        {
          "output_type": "display_data",
          "data": {
            "text/plain": [
              "<Figure size 1000x700 with 1 Axes>"
            ],
            "image/png": "[encoded data removed]"
          },
          "metadata": {}
        }
      ],
      "source": [
        "import numpy as np\n",
        "import matplotlib.pyplot as plt\n",
        "\n",
        "img_as_array = np.asarray(img)\n",
        "plt.figure(figsize=((10,7)))\n",
        "plt.imshow(img_as_array)\n",
        "plt.title(f\"img class {image_class}, image shape {img_as_array.shape}\")\n",
        "plt.axis(False)"
      ]
    },
    {
      "cell_type": "code",
      "execution_count": 226,
      "metadata": {
        "id": "TfaABlTTTbJe"
      },
      "outputs": [],
      "source": [
        "import torch\n",
        "from torch.utils.data import DataLoader\n",
        "from torchvision import datasets, transforms"
      ]
    },
    {
      "cell_type": "code",
      "execution_count": 227,
      "metadata": {
        "id": "2RF8myd9TbNc"
      },
      "outputs": [],
      "source": [
        "data_transform = transforms.Compose([\n",
        "    # resize the image\n",
        "    transforms.Resize(size=(64,64)),\n",
        "    # random image\n",
        "    transforms.RandomHorizontalFlip(p=0.5),\n",
        "    # torch tensour\n",
        "    transforms.ToTensor()\n",
        "])"
      ]
    },
    {
      "cell_type": "code",
      "execution_count": 228,
      "metadata": {
        "colab": {
          "base_uri": "https://localhost:8080/"
        },
        "id": "ehEfsVLwTbQQ",
        "outputId": "454e7816-8de5-4674-e7f2-498903e61123"
      },
      "outputs": [
        {
          "output_type": "execute_result",
          "data": {
            "text/plain": [
              "torch.float32"
            ]
          },
          "metadata": {},
          "execution_count": 228
        }
      ],
      "source": [
        "data_transform(img).dtype"
      ]
    },
    {
      "cell_type": "code",
      "execution_count": 229,
      "metadata": {
        "colab": {
          "base_uri": "https://localhost:8080/",
          "height": 1000
        },
        "id": "ITBamVg5TbTs",
        "outputId": "b8ba0eaf-1af6-4276-9eab-818632c5a94e"
      },
      "outputs": [
        {
          "output_type": "display_data",
          "data": {
            "text/plain": [
              "<Figure size 640x480 with 2 Axes>"
            ],
            "image/png": "[encoded data removed]"
          },
          "metadata": {}
        },
        {
          "output_type": "display_data",
          "data": {
            "text/plain": [
              "<Figure size 640x480 with 2 Axes>"
            ],
            "image/png": "[encoded data removed]"
          },
          "metadata": {}
        },
        {
          "output_type": "display_data",
          "data": {
            "text/plain": [
              "<Figure size 640x480 with 2 Axes>"
            ],
            "image/png": "[encoded data removed]"
          },
          "metadata": {}
        }
      ],
      "source": [
        "def plot_image(image_path, tranform, n=3, seed=42):\n",
        "  if seed:\n",
        "    random.seed(seed)\n",
        "  random_image_path = random.sample(image_path, k=n)\n",
        "  for image_path in random_image_path:\n",
        "    with Image.open(image_path) as f:\n",
        "      fig, ax = plt.subplots(nrows=1, ncols=2)\n",
        "      ax[0].imshow(f)\n",
        "      ax[0].set_title(f\"oraginal image {f.size}\")\n",
        "      ax[0].axis(False)\n",
        "\n",
        "      transfoem_image = tranform(f).permute(1,2,0)\n",
        "      ax[1].imshow(transfoem_image)\n",
        "      ax[1].set_title(f\"transform image {transfoem_image.shape}\")\n",
        "      ax[1].axis(\"off\")\n",
        "\n",
        "      fig.suptitle(f\"class {image_path.parent.stem}\", fontsize=16)\n",
        "\n",
        "plot_image(image_path=image_path_list,\n",
        "           tranform = data_transform,\n",
        "           n=3,\n",
        "           seed=42)"
      ]
    },
    {
      "cell_type": "code",
      "execution_count": 230,
      "metadata": {
        "id": "_rZCo2Mn2b4M"
      },
      "outputs": [],
      "source": [
        "# image_path_list"
      ]
    },
    {
      "cell_type": "code",
      "execution_count": 231,
      "metadata": {
        "id": "DAZVWxOaSKuT"
      },
      "outputs": [],
      "source": [
        "# dir = \"/content/data/color_blindness/Color Recognition\"\n",
        "# train_dir = dir / \"Train\"\n",
        "# test_dir = dir / \"Test\"\n",
        "# valid_dir = dir / \"Valid\"\n",
        "\n",
        "# train_dir, test_dir, valid_dir"
      ]
    },
    {
      "cell_type": "code",
      "execution_count": 232,
      "metadata": {
        "colab": {
          "base_uri": "https://localhost:8080/"
        },
        "id": "Gr5km1KUNWmo",
        "outputId": "293a9c39-6307-496b-d55e-240531bc8d5e"
      },
      "outputs": [
        {
          "output_type": "execute_result",
          "data": {
            "text/plain": [
              "(Dataset ImageFolder\n",
              "     Number of datapoints: 372\n",
              "     Root location: data/color_blindness/Color Recognition/Train\n",
              "     StandardTransform\n",
              " Transform: Compose(\n",
              "                Resize(size=(64, 64), interpolation=bilinear, max_size=None, antialias=True)\n",
              "                RandomHorizontalFlip(p=0.5)\n",
              "                ToTensor()\n",
              "            ),\n",
              " Dataset ImageFolder\n",
              "     Number of datapoints: 49\n",
              "     Root location: data/color_blindness/Color Recognition/Test\n",
              "     StandardTransform\n",
              " Transform: Compose(\n",
              "                Resize(size=(64, 64), interpolation=bilinear, max_size=None, antialias=True)\n",
              "                RandomHorizontalFlip(p=0.5)\n",
              "                ToTensor()\n",
              "            ))"
            ]
          },
          "metadata": {},
          "execution_count": 232
        }
      ],
      "source": [
        "from torchvision import datasets\n",
        "\n",
        "train_data = datasets.ImageFolder(root=train_dir,\n",
        "                                  transform=data_transform,\n",
        "                                  target_transform=None)\n",
        "\n",
        "test_data = datasets.ImageFolder(root=test_dir,\n",
        "                                  transform=data_transform)\n",
        "\n",
        "train_data, test_data"
      ]
    },
    {
      "cell_type": "code",
      "execution_count": 233,
      "metadata": {
        "colab": {
          "base_uri": "https://localhost:8080/"
        },
        "id": "wM_vuDbbNijH",
        "outputId": "c969df43-cd2e-4d85-eff5-bfb636aa22f3"
      },
      "outputs": [
        {
          "output_type": "execute_result",
          "data": {
            "text/plain": [
              "{'Black': 0,\n",
              " 'blue': 1,\n",
              " 'brown': 2,\n",
              " 'green': 3,\n",
              " 'orange': 4,\n",
              " 'red': 5,\n",
              " 'violet': 6,\n",
              " 'white': 7,\n",
              " 'yellow': 8}"
            ]
          },
          "metadata": {},
          "execution_count": 233
        }
      ],
      "source": [
        "class_name_idx = train_data.class_to_idx\n",
        "class_name_idx"
      ]
    },
    {
      "cell_type": "code",
      "execution_count": 234,
      "metadata": {
        "colab": {
          "base_uri": "https://localhost:8080/"
        },
        "id": "GOFPAf3YhpTb",
        "outputId": "8731456e-c36f-42cb-cdb2-84a527099c0c"
      },
      "outputs": [
        {
          "output_type": "execute_result",
          "data": {
            "text/plain": [
              "['Black',\n",
              " 'blue',\n",
              " 'brown',\n",
              " 'green',\n",
              " 'orange',\n",
              " 'red',\n",
              " 'violet',\n",
              " 'white',\n",
              " 'yellow']"
            ]
          },
          "metadata": {},
          "execution_count": 234
        }
      ],
      "source": [
        "class_name = train_data.classes\n",
        "class_name"
      ]
    },
    {
      "cell_type": "code",
      "execution_count": 235,
      "metadata": {
        "colab": {
          "base_uri": "https://localhost:8080/"
        },
        "id": "CXIZQtDdNilr",
        "outputId": "77768421-d4f2-45f2-ddca-e5d7e76fb28f"
      },
      "outputs": [
        {
          "output_type": "execute_result",
          "data": {
            "text/plain": [
              "('data/color_blindness/Color Recognition/Train/orange/orange - Copy (61).png',\n",
              " 4)"
            ]
          },
          "metadata": {},
          "execution_count": 235
        }
      ],
      "source": [
        "train_data.samples[133]"
      ]
    },
    {
      "cell_type": "code",
      "execution_count": 236,
      "metadata": {
        "colab": {
          "base_uri": "https://localhost:8080/"
        },
        "id": "n4P6XqtONioU",
        "outputId": "4087c8e1-e5c5-4d23-c4cf-44c8376f2124"
      },
      "outputs": [
        {
          "output_type": "stream",
          "name": "stdout",
          "text": [
            "img: tensor([[[0.1843, 0.1843, 0.1843,  ..., 0.1843, 0.1843, 0.1843],\n",
            "         [0.1843, 0.1843, 0.1843,  ..., 0.1843, 0.1843, 0.1843],\n",
            "         [0.1843, 0.1843, 0.1843,  ..., 0.1843, 0.1843, 0.1843],\n",
            "         ...,\n",
            "         [0.1843, 0.1843, 0.1843,  ..., 0.1843, 0.1843, 0.1843],\n",
            "         [0.1843, 0.1843, 0.1843,  ..., 0.1843, 0.1843, 0.1843],\n",
            "         [0.1843, 0.1843, 0.1843,  ..., 0.1843, 0.1843, 0.1843]],\n",
            "\n",
            "        [[0.1843, 0.1843, 0.1843,  ..., 0.1843, 0.1843, 0.1843],\n",
            "         [0.1843, 0.1843, 0.1843,  ..., 0.1843, 0.1843, 0.1843],\n",
            "         [0.1843, 0.1843, 0.1843,  ..., 0.1843, 0.1843, 0.1843],\n",
            "         ...,\n",
            "         [0.1843, 0.1843, 0.1843,  ..., 0.1843, 0.1843, 0.1843],\n",
            "         [0.1843, 0.1843, 0.1843,  ..., 0.1843, 0.1843, 0.1843],\n",
            "         [0.1843, 0.1843, 0.1843,  ..., 0.1843, 0.1843, 0.1843]],\n",
            "\n",
            "        [[0.1843, 0.1843, 0.1843,  ..., 0.1843, 0.1843, 0.1843],\n",
            "         [0.1843, 0.1843, 0.1843,  ..., 0.1843, 0.1843, 0.1843],\n",
            "         [0.1843, 0.1843, 0.1843,  ..., 0.1843, 0.1843, 0.1843],\n",
            "         ...,\n",
            "         [0.1843, 0.1843, 0.1843,  ..., 0.1843, 0.1843, 0.1843],\n",
            "         [0.1843, 0.1843, 0.1843,  ..., 0.1843, 0.1843, 0.1843],\n",
            "         [0.1843, 0.1843, 0.1843,  ..., 0.1843, 0.1843, 0.1843]]])\n",
            "img shape: torch.Size([3, 64, 64])\n",
            "img datatype: torch.float32\n",
            "label: 0\n",
            "label datatype: <class 'int'>\n"
          ]
        }
      ],
      "source": [
        "img, label = train_data[0][0], train_data[0][1]\n",
        "print(f\"img: {img}\")\n",
        "print(f\"img shape: {img.shape}\")\n",
        "print(f\"img datatype: {img.dtype}\")\n",
        "print(f\"label: {label}\")\n",
        "print(f\"label datatype: {type(label)}\")"
      ]
    },
    {
      "cell_type": "code",
      "execution_count": 237,
      "metadata": {
        "colab": {
          "base_uri": "https://localhost:8080/",
          "height": 653
        },
        "id": "sHySSRslg05h",
        "outputId": "e0619992-31c8-4be1-efe5-3fe47328b686"
      },
      "outputs": [
        {
          "output_type": "stream",
          "name": "stdout",
          "text": [
            "orignal img torch.Size([3, 64, 64]) => [c, h, w]\n",
            " img  prmuted torch.Size([64, 64, 3]) => [h, w, c]\n"
          ]
        },
        {
          "output_type": "execute_result",
          "data": {
            "text/plain": [
              "Text(0.5, 1.0, 'Black')"
            ]
          },
          "metadata": {},
          "execution_count": 237
        },
        {
          "output_type": "display_data",
          "data": {
            "text/plain": [
              "<Figure size 1000x700 with 1 Axes>"
            ],
            "image/png": "[encoded data removed]"
          },
          "metadata": {}
        }
      ],
      "source": [
        "img_permute = img.permute(1,2,0)\n",
        "print(f\"orignal img {img.shape} => [c, h, w]\")\n",
        "print(f\" img  prmuted {img_permute.shape} => [h, w, c]\")\n",
        "\n",
        "plt.figure(figsize=(10,7))\n",
        "plt.imshow(img_permute)\n",
        "plt.axis(\"off\")\n",
        "plt.title(class_name[label], fontsize=14)"
      ]
    },
    {
      "cell_type": "code",
      "execution_count": 238,
      "metadata": {
        "colab": {
          "base_uri": "https://localhost:8080/"
        },
        "id": "sib0jBB2nRJX",
        "outputId": "a83bed3c-eb65-47cb-8a4b-a67c75f9d08b"
      },
      "outputs": [
        {
          "output_type": "execute_result",
          "data": {
            "text/plain": [
              "2"
            ]
          },
          "metadata": {},
          "execution_count": 238
        }
      ],
      "source": [
        "import os\n",
        "os.cpu_count()"
      ]
    },
    {
      "cell_type": "code",
      "execution_count": 239,
      "metadata": {
        "colab": {
          "base_uri": "https://localhost:8080/"
        },
        "id": "NLCfGUTOg09A",
        "outputId": "eee1cbba-06c1-4b96-8457-04c3c542f3c6"
      },
      "outputs": [
        {
          "output_type": "execute_result",
          "data": {
            "text/plain": [
              "(<torch.utils.data.dataloader.DataLoader at 0x7e16a29122c0>,\n",
              " <torch.utils.data.dataloader.DataLoader at 0x7e16a2911870>)"
            ]
          },
          "metadata": {},
          "execution_count": 239
        }
      ],
      "source": [
        "from torch.utils.data import DataLoader\n",
        "Batch_size =32\n",
        "train_dataloader = DataLoader(dataset=train_data,\n",
        "                              batch_size=Batch_size,\n",
        "                              num_workers=1,\n",
        "                              shuffle=True)\n",
        "\n",
        "test_dataloader = DataLoader(dataset=test_data,\n",
        "                              batch_size=Batch_size,\n",
        "                              num_workers=1,\n",
        "                              shuffle=False)\n",
        "\n",
        "train_dataloader, test_dataloader"
      ]
    },
    {
      "cell_type": "code",
      "execution_count": 240,
      "metadata": {
        "colab": {
          "base_uri": "https://localhost:8080/"
        },
        "id": "D-oKjJ0ng0-L",
        "outputId": "6f89b14a-a30f-4118-a58f-f01b2ed2e0b5"
      },
      "outputs": [
        {
          "output_type": "execute_result",
          "data": {
            "text/plain": [
              "(12, 2)"
            ]
          },
          "metadata": {},
          "execution_count": 240
        }
      ],
      "source": [
        "len(train_dataloader), len(test_dataloader)"
      ]
    },
    {
      "cell_type": "code",
      "execution_count": 241,
      "metadata": {
        "colab": {
          "base_uri": "https://localhost:8080/"
        },
        "id": "_e8Q7fIBg1Bf",
        "outputId": "9af2178a-46f1-4a79-ba63-90ce82225684"
      },
      "outputs": [
        {
          "output_type": "execute_result",
          "data": {
            "text/plain": [
              "(372, 49)"
            ]
          },
          "metadata": {},
          "execution_count": 241
        }
      ],
      "source": [
        "len(train_data), len(test_data)"
      ]
    },
    {
      "cell_type": "code",
      "execution_count": 242,
      "metadata": {
        "colab": {
          "base_uri": "https://localhost:8080/"
        },
        "id": "N7uDOcE0Nirq",
        "outputId": "4eb4e763-3443-4bf3-b43c-3ae6772af129"
      },
      "outputs": [
        {
          "output_type": "stream",
          "name": "stdout",
          "text": [
            " img torch.Size([32, 3, 64, 64]) => [c, h, w]\n",
            "label torch.Size([32]) \n"
          ]
        }
      ],
      "source": [
        "img, label = next(iter(train_dataloader))\n",
        "print(f\" img {img.shape} => [c, h, w]\")\n",
        "print(f\"label {label.shape} \")"
      ]
    },
    {
      "cell_type": "code",
      "execution_count": 243,
      "metadata": {
        "id": "njsyDMloqm4j"
      },
      "outputs": [],
      "source": [
        "import os\n",
        "import pathlib\n",
        "import torch\n",
        "\n",
        "from PIL import Image\n",
        "from torch.utils.data import dataset\n",
        "from torchvision import transforms\n",
        "from typing import Tuple, Dict, List"
      ]
    },
    {
      "cell_type": "code",
      "execution_count": 244,
      "metadata": {
        "colab": {
          "base_uri": "https://localhost:8080/"
        },
        "id": "pL7Zl5wdrTfj",
        "outputId": "1c7c5d35-0144-42ad-c8ce-f6d4d7b3a0e2"
      },
      "outputs": [
        {
          "output_type": "execute_result",
          "data": {
            "text/plain": [
              "(['Black',\n",
              "  'blue',\n",
              "  'brown',\n",
              "  'green',\n",
              "  'orange',\n",
              "  'red',\n",
              "  'violet',\n",
              "  'white',\n",
              "  'yellow'],\n",
              " {'Black': 0,\n",
              "  'blue': 1,\n",
              "  'brown': 2,\n",
              "  'green': 3,\n",
              "  'orange': 4,\n",
              "  'red': 5,\n",
              "  'violet': 6,\n",
              "  'white': 7,\n",
              "  'yellow': 8})"
            ]
          },
          "metadata": {},
          "execution_count": 244
        }
      ],
      "source": [
        "train_data.classes, train_data.class_to_idx"
      ]
    },
    {
      "cell_type": "code",
      "execution_count": 245,
      "metadata": {
        "colab": {
          "base_uri": "https://localhost:8080/"
        },
        "id": "Fw7YDkjZrTh-",
        "outputId": "5fecf987-7e3a-4505-ee15-4022c77c8161"
      },
      "outputs": [
        {
          "output_type": "stream",
          "name": "stdout",
          "text": [
            "data/color_blindness/Color Recognition/Train\n"
          ]
        },
        {
          "output_type": "execute_result",
          "data": {
            "text/plain": [
              "['Black',\n",
              " 'blue',\n",
              " 'brown',\n",
              " 'green',\n",
              " 'orange',\n",
              " 'red',\n",
              " 'violet',\n",
              " 'white',\n",
              " 'yellow']"
            ]
          },
          "metadata": {},
          "execution_count": 245
        }
      ],
      "source": [
        "target_directory = train_dir\n",
        "print(target_directory)\n",
        "\n",
        "class_name_fount = sorted([entry.name for entry in list(os.scandir(target_directory))])\n",
        "class_name_fount"
      ]
    },
    {
      "cell_type": "code",
      "execution_count": 246,
      "metadata": {
        "id": "gwKTp0zvrTko"
      },
      "outputs": [],
      "source": [
        "def find_classes(directory: str) -> Tuple[List[str], Dict[str, int]]:\n",
        "  \"\"\"find the class folder \"\"\"\n",
        "  classes = sorted(entry.name for entry in os.scandir(directory) if entry.is_dir())\n",
        "  if not classes:\n",
        "    raise FileNotFoundError(f\"not find class in {directory}\")\n",
        "  return classes"
      ]
    },
    {
      "cell_type": "code",
      "execution_count": 247,
      "metadata": {
        "colab": {
          "base_uri": "https://localhost:8080/"
        },
        "id": "WF689f04rToO",
        "outputId": "316bb096-7e30-4deb-b33f-84610d44a36d"
      },
      "outputs": [
        {
          "output_type": "execute_result",
          "data": {
            "text/plain": [
              "['Black',\n",
              " 'blue',\n",
              " 'brown',\n",
              " 'green',\n",
              " 'orange',\n",
              " 'red',\n",
              " 'violet',\n",
              " 'white',\n",
              " 'yellow']"
            ]
          },
          "metadata": {},
          "execution_count": 247
        }
      ],
      "source": [
        "find_classes(target_directory)"
      ]
    },
    {
      "cell_type": "code",
      "execution_count": 248,
      "metadata": {
        "id": "Tq8L4LJqauZo"
      },
      "outputs": [],
      "source": [
        "def find_classes(directory: str) -> Tuple[List[str], Dict[str, int]]:\n",
        "    \"\"\"Finds the class folder names in a target directory.\n",
        "\n",
        "    Assumes target directory is in standard image classification format.\n",
        "\n",
        "    Args:\n",
        "        directory (str): target directory to load classnames from.\n",
        "\n",
        "    Returns:\n",
        "        Tuple[List[str], Dict[str, int]]: (list_of_class_names, dict(class_name: idx...))\n",
        "\n",
        "    Example:\n",
        "        find_classes(\"food_images/train\")\n",
        "        >>> ([\"class_1\", \"class_2\"], {\"class_1\": 0, ...})\n",
        "    \"\"\"\n",
        "    # 1. Get the class names by scanning the target directory\n",
        "    classes = sorted(entry.name for entry in os.scandir(directory) if entry.is_dir())\n",
        "\n",
        "    # 2. Raise an error if class names not found\n",
        "    if not classes:\n",
        "        raise FileNotFoundError(f\"Couldn't find any classes in {directory}.\")\n",
        "\n",
        "    # 3. Create a dictionary of index labels (computers prefer numerical rather than string labels)\n",
        "    class_to_idx = {cls_name: i for i, cls_name in enumerate(classes)}\n",
        "    return classes, class_to_idx"
      ]
    },
    {
      "cell_type": "code",
      "execution_count": 249,
      "metadata": {
        "colab": {
          "base_uri": "https://localhost:8080/"
        },
        "id": "HPbAOdsqazPX",
        "outputId": "6bf4b43a-394c-4099-c0b2-606dd41e7157"
      },
      "outputs": [
        {
          "output_type": "execute_result",
          "data": {
            "text/plain": [
              "(['Black',\n",
              "  'blue',\n",
              "  'brown',\n",
              "  'green',\n",
              "  'orange',\n",
              "  'red',\n",
              "  'violet',\n",
              "  'white',\n",
              "  'yellow'],\n",
              " {'Black': 0,\n",
              "  'blue': 1,\n",
              "  'brown': 2,\n",
              "  'green': 3,\n",
              "  'orange': 4,\n",
              "  'red': 5,\n",
              "  'violet': 6,\n",
              "  'white': 7,\n",
              "  'yellow': 8})"
            ]
          },
          "metadata": {},
          "execution_count": 249
        }
      ],
      "source": [
        "find_classes(train_dir)"
      ]
    },
    {
      "cell_type": "code",
      "execution_count": 250,
      "metadata": {
        "id": "vRWt8p13uSRO"
      },
      "outputs": [],
      "source": [
        "from torch.utils.data import Dataset\n",
        "\n",
        "class Imagefoldercustom(Dataset):\n",
        "  #initlizer custom dataset\n",
        "  def __init__(self, targ_dir:str, transform=None):\n",
        "    #get all image paths\n",
        "    self.paths = list(pathlib.Path(targ_dir).glob(\"*/*.png\"))\n",
        "\n",
        "    #tranform image tensors\n",
        "    self.transform = transform\n",
        "\n",
        "    # create class and class_to_idx\n",
        "    self.classes, self.class_to_idx = find_classes(targ_dir)\n",
        "\n",
        "  # load image\n",
        "  def load_image(self, index:int) -> Image.Image:\n",
        "    \"open image\"\n",
        "    image_path = self.paths[index]\n",
        "    return Image.open(image_path)\n",
        "\n",
        "  #len path\n",
        "  def __len__(self):\n",
        "    return len(self.paths)\n",
        "\n",
        "  def __gititem__(self, index:int) ->Tuple[torch.Tensor, int] :\n",
        "    img = self.load_image(index)\n",
        "    class_name = self.paths[index].parent.name\n",
        "    class_idx = self.class_to_idx[class_name]\n",
        "\n",
        "    if self.transform:\n",
        "      return self.transform(img), class_idx\n",
        "    else:\n",
        "      img, class_idx"
      ]
    },
    {
      "cell_type": "code",
      "execution_count": 251,
      "metadata": {
        "id": "HdWsdf0euSTh"
      },
      "outputs": [],
      "source": [
        "from torchvision import transforms\n",
        "\n",
        "\n",
        "train_transform = transforms.Compose([\n",
        "                                      transforms.Resize(size=(64,64)),\n",
        "                                      transforms.RandomHorizontalFlip(p=0.5),\n",
        "                                      transforms.ToTensor()\n",
        "                                      ])\n",
        "\n",
        "test_transform = transforms.Compose([\n",
        "                                      transforms.Resize(size=(64,64)),\n",
        "                                      transforms.ToTensor()\n",
        "                                      ])"
      ]
    },
    {
      "cell_type": "code",
      "execution_count": 252,
      "metadata": {
        "colab": {
          "base_uri": "https://localhost:8080/"
        },
        "id": "SXhVYkWSuSV0",
        "outputId": "ada80e33-6b24-4ef5-a90d-66be38f9b60d"
      },
      "outputs": [
        {
          "output_type": "execute_result",
          "data": {
            "text/plain": [
              "(<__main__.Imagefoldercustom at 0x7e16a28e2e60>,\n",
              " <__main__.Imagefoldercustom at 0x7e16a28e31f0>)"
            ]
          },
          "metadata": {},
          "execution_count": 252
        }
      ],
      "source": [
        "train_data_custom = Imagefoldercustom(targ_dir=train_dir,\n",
        "                                      transform=train_transform)\n",
        "\n",
        "test_data_custom = Imagefoldercustom(targ_dir=test_dir,\n",
        "                                      transform=test_transform)\n",
        "\n",
        "train_data_custom, test_data_custom"
      ]
    },
    {
      "cell_type": "code",
      "execution_count": 253,
      "metadata": {
        "colab": {
          "base_uri": "https://localhost:8080/"
        },
        "id": "DjzI_bPyuSco",
        "outputId": "3640d623-fbd7-4d05-9de7-a16ee2e79fa7"
      },
      "outputs": [
        {
          "output_type": "execute_result",
          "data": {
            "text/plain": [
              "(312, 42)"
            ]
          },
          "metadata": {},
          "execution_count": 253
        }
      ],
      "source": [
        "len(train_data_custom), len(test_data_custom)"
      ]
    },
    {
      "cell_type": "code",
      "execution_count": 254,
      "metadata": {
        "colab": {
          "base_uri": "https://localhost:8080/"
        },
        "id": "VvsHiHjiuSfM",
        "outputId": "edbf4c61-2202-4116-c4d1-79bb95c5350a"
      },
      "outputs": [
        {
          "output_type": "stream",
          "name": "stdout",
          "text": [
            "False\n",
            "True\n",
            "True\n"
          ]
        }
      ],
      "source": [
        "print((len(train_data_custom) == len(train_data)) & (len(test_data_custom) == len(test_data)))\n",
        "print(train_data_custom.classes == train_data.classes)\n",
        "print(train_data_custom.class_to_idx == train_data.class_to_idx)"
      ]
    },
    {
      "cell_type": "code",
      "execution_count": 255,
      "metadata": {
        "id": "qPkDO2j1uSha"
      },
      "outputs": [],
      "source": [
        "# 1. Take in a Dataset as well as a list of class names\n",
        "def display_random_images(dataset: torch.utils.data.dataset.Dataset,\n",
        "                          classes: List[str] = None,\n",
        "                          n: int = 10,\n",
        "                          display_shape: bool = True,\n",
        "                          seed: int = None):\n",
        "\n",
        "    # 2. Adjust display if n too high\n",
        "    if n > 10:\n",
        "        n = 10\n",
        "        display_shape = False\n",
        "        print(f\"For display purposes, n shouldn't be larger than 10, setting to 10 and removing shape display.\")\n",
        "\n",
        "    # 3. Set random seed\n",
        "    if seed:\n",
        "        random.seed(seed)\n",
        "\n",
        "    # 4. Get random sample indexes\n",
        "    random_samples_idx = random.sample(range(len(dataset)), k=n)\n",
        "\n",
        "    # 5. Setup plot\n",
        "    plt.figure(figsize=(16, 8))\n",
        "\n",
        "    # 6. Loop through samples and display random samples\n",
        "    for i, targ_sample in enumerate(random_samples_idx):\n",
        "        targ_image, targ_label = dataset[targ_sample][0], dataset[targ_sample][1]\n",
        "\n",
        "        # 7. Adjust image tensor shape for plotting: [color_channels, height, width] -> [color_channels, height, width]\n",
        "        targ_image_adjust = targ_image.permute(1, 2, 0)\n",
        "\n",
        "        # Plot adjusted samples\n",
        "        plt.subplot(1, n, i+1)\n",
        "        plt.imshow(targ_image_adjust)\n",
        "        plt.axis(\"off\")\n",
        "        if classes:\n",
        "            title = f\"class: {classes[targ_label]}\"\n",
        "            if display_shape:\n",
        "                title = title + f\"\\nshape: {targ_image_adjust.shape}\"\n",
        "        plt.title(title)"
      ]
    },
    {
      "cell_type": "code",
      "execution_count": 256,
      "metadata": {
        "colab": {
          "base_uri": "https://localhost:8080/",
          "height": 293
        },
        "id": "ffrgxtzquSkE",
        "outputId": "94f9b42e-643e-4fd6-a507-48829e70cdaa"
      },
      "outputs": [
        {
          "output_type": "display_data",
          "data": {
            "text/plain": [
              "<Figure size 1600x800 with 5 Axes>"
            ],
            "image/png": "[encoded data removed]"
          },
          "metadata": {}
        }
      ],
      "source": [
        "# Display random images from ImageFolder created Dataset\n",
        "display_random_images(train_data,\n",
        "                      n=5,\n",
        "                      classes=train_data.classes,\n",
        "                      seed=None)"
      ]
    },
    {
      "cell_type": "code",
      "execution_count": 257,
      "metadata": {
        "colab": {
          "base_uri": "https://localhost:8080/",
          "height": 182
        },
        "id": "DeYziV7puSmJ",
        "outputId": "c1ad4622-8f92-4002-81b1-9c456e067b0b"
      },
      "outputs": [
        {
          "output_type": "stream",
          "name": "stdout",
          "text": [
            "For display purposes, n shouldn't be larger than 10, setting to 10 and removing shape display.\n"
          ]
        },
        {
          "output_type": "display_data",
          "data": {
            "text/plain": [
              "<Figure size 1600x800 with 10 Axes>"
            ],
            "image/png": "[encoded data removed]"
          },
          "metadata": {}
        }
      ],
      "source": [
        "# Display random images from ImageFolder created Dataset\n",
        "# if the number image > 10 image : the image == 10\n",
        "display_random_images(train_data,\n",
        "                      n=20,  # if the image == 20 : image ==10\n",
        "                      classes=train_data.classes,\n",
        "                      seed=None)"
      ]
    },
    {
      "cell_type": "code",
      "execution_count": 258,
      "metadata": {
        "colab": {
          "base_uri": "https://localhost:8080/"
        },
        "id": "59kCRb2quSph",
        "outputId": "66fdad5e-f643-4512-cc4c-532fd84fc08d"
      },
      "outputs": [
        {
          "output_type": "execute_result",
          "data": {
            "text/plain": [
              "(<torch.utils.data.dataloader.DataLoader at 0x7e16a1137010>,\n",
              " <torch.utils.data.dataloader.DataLoader at 0x7e16a11376a0>)"
            ]
          },
          "metadata": {},
          "execution_count": 258
        }
      ],
      "source": [
        "# Turn train and test custom Dataset's into DataLoader's\n",
        "from torch.utils.data import DataLoader\n",
        "Batch_size = 32\n",
        "# Num_workers = os.cpu_count()\n",
        "train_dataloader_custom = DataLoader(dataset=train_data_custom, # use custom created train Dataset\n",
        "                                     batch_size=Batch_size, # how many samples per batch?\n",
        "                                     num_workers=0, # how many subprocesses to use for data loading? (higher = more)\n",
        "                                     shuffle=True) # shuffle the data?\n",
        "\n",
        "test_dataloader_custom = DataLoader(dataset=test_data_custom, # use custom created test Dataset\n",
        "                                    batch_size=Batch_size,\n",
        "                                    num_workers=0,\n",
        "                                    shuffle=False) # don't usually need to shuffle testing data\n",
        "\n",
        "train_dataloader_custom, test_dataloader_custom"
      ]
    },
    {
      "cell_type": "code",
      "execution_count": 259,
      "metadata": {
        "colab": {
          "base_uri": "https://localhost:8080/"
        },
        "id": "i_7nYCAvw4PK",
        "outputId": "7d786cda-38a2-4ead-ce5e-41d09a66a8a5"
      },
      "outputs": [
        {
          "output_type": "execute_result",
          "data": {
            "text/plain": [
              "(10, 2)"
            ]
          },
          "metadata": {},
          "execution_count": 259
        }
      ],
      "source": [
        "len(train_dataloader_custom), len(test_dataloader_custom)\n",
        "\n",
        "# 32*10 = 320"
      ]
    },
    {
      "cell_type": "code",
      "execution_count": 260,
      "metadata": {
        "id": "1LO_iTSYwGzk"
      },
      "outputs": [],
      "source": [
        "train_transforms = transforms.Compose([\n",
        "    transforms.Resize((224, 224)),\n",
        "    transforms.TrivialAugmentWide(num_magnitude_bins=31), # how intense\n",
        "    transforms.ToTensor() # use ToTensor() last to get everything between 0 & 1\n",
        "])\n",
        "\n",
        "# Don't need to perform augmentation on the test data\n",
        "test_transforms = transforms.Compose([\n",
        "    transforms.Resize((224, 224)),\n",
        "    transforms.ToTensor()\n",
        "])"
      ]
    },
    {
      "cell_type": "code",
      "execution_count": 261,
      "metadata": {
        "colab": {
          "base_uri": "https://localhost:8080/"
        },
        "id": "hlQcRwbJlulo",
        "outputId": "6860081f-17ee-4e09-afb3-b9d1c14cf491"
      },
      "outputs": [
        {
          "output_type": "execute_result",
          "data": {
            "text/plain": [
              "PosixPath('data/color_blindness')"
            ]
          },
          "metadata": {},
          "execution_count": 261
        }
      ],
      "source": [
        "image_path"
      ]
    },
    {
      "cell_type": "code",
      "execution_count": 262,
      "metadata": {
        "colab": {
          "base_uri": "https://localhost:8080/"
        },
        "id": "8ms7Ak4UluoE",
        "outputId": "cc03c3d4-5eb2-4e2d-eb21-74923d0caf54"
      },
      "outputs": [
        {
          "output_type": "execute_result",
          "data": {
            "text/plain": [
              "[PosixPath('data/color_blindness/Color Recognition/Test/red/red - Copy (53).jpg'),\n",
              " PosixPath('data/color_blindness/Color Recognition/Test/red/red - Copy (50).jpg'),\n",
              " PosixPath('data/color_blindness/Color Recognition/Test/red/red - Copy (54).jpg'),\n",
              " PosixPath('data/color_blindness/Color Recognition/Test/red/red - Copy.jpg'),\n",
              " PosixPath('data/color_blindness/Color Recognition/Test/red/red - Copy (51).jpg'),\n",
              " PosixPath('data/color_blindness/Color Recognition/Test/red/red - Copy (52).jpg'),\n",
              " PosixPath('data/color_blindness/Color Recognition/Test/black/black21.jpg'),\n",
              " PosixPath('data/color_blindness/Color Recognition/Valid/red/red - Copy (30).jpg'),\n",
              " PosixPath('data/color_blindness/Color Recognition/Valid/red/red - Copy (23).jpg'),\n",
              " PosixPath('data/color_blindness/Color Recognition/Valid/red/red - Copy (34).jpg')]"
            ]
          },
          "metadata": {},
          "execution_count": 262
        }
      ],
      "source": [
        "# Get all image paths\n",
        "image_path_lists = list(image_path.glob(\"*/*/*/*.jpg\"))\n",
        "image_path_lists[:10]\n",
        "# Plot random images\n"
      ]
    },
    {
      "cell_type": "code",
      "execution_count": 263,
      "metadata": {
        "colab": {
          "base_uri": "https://localhost:8080/",
          "height": 1000
        },
        "id": "zjYFmyIyluri",
        "outputId": "e2369baa-9985-40f1-c92a-6c1471e45ca7"
      },
      "outputs": [
        {
          "output_type": "display_data",
          "data": {
            "text/plain": [
              "<Figure size 640x480 with 2 Axes>"
            ],
            "image/png": "[encoded data removed]"
          },
          "metadata": {}
        },
        {
          "output_type": "display_data",
          "data": {
            "text/plain": [
              "<Figure size 640x480 with 2 Axes>"
            ],
            "image/png": "[encoded data removed]"
          },
          "metadata": {}
        },
        {
          "output_type": "display_data",
          "data": {
            "text/plain": [
              "<Figure size 640x480 with 2 Axes>"
            ],
            "image/png": "[encoded data removed]"
          },
          "metadata": {}
        }
      ],
      "source": [
        "plot_image(\n",
        "    image_path=image_path_lists,\n",
        "    tranform=train_transforms,\n",
        "    n=3,\n",
        "    seed=None\n",
        ")"
      ]
    },
    {
      "cell_type": "code",
      "execution_count": 264,
      "metadata": {
        "id": "mVzYUb1A5D-Y"
      },
      "outputs": [],
      "source": [
        "# Create simple transform\n",
        "simple_transform = transforms.Compose([\n",
        "    transforms.Resize((64, 64)),\n",
        "    transforms.ToTensor(),\n",
        "])"
      ]
    },
    {
      "cell_type": "code",
      "execution_count": 265,
      "metadata": {
        "colab": {
          "base_uri": "https://localhost:8080/"
        },
        "id": "EaV3pYbu5EVc",
        "outputId": "ee6d687e-1124-453e-b057-39ad29aa04d0"
      },
      "outputs": [
        {
          "output_type": "stream",
          "name": "stdout",
          "text": [
            "Creating DataLoader's with batch size 32 and 2 workers.\n"
          ]
        },
        {
          "output_type": "execute_result",
          "data": {
            "text/plain": [
              "(<torch.utils.data.dataloader.DataLoader at 0x7e16a0f2bd30>,\n",
              " <torch.utils.data.dataloader.DataLoader at 0x7e16a0f2bcd0>)"
            ]
          },
          "metadata": {},
          "execution_count": 265
        }
      ],
      "source": [
        "# 1. Load and transform data\n",
        "# from torchvision import datasets\n",
        "train_data_simple = datasets.ImageFolder(root=train_dir, transform=simple_transform)\n",
        "test_data_simple = datasets.ImageFolder(root=test_dir, transform=simple_transform)\n",
        "\n",
        "# 2. Turn data into DataLoaders\n",
        "# import os\n",
        "# from torch.utils.data import DataLoader\n",
        "\n",
        "# Setup batch size and number of workers\n",
        "BATCH_SIZE = 32\n",
        "NUM_WORKERS = os.cpu_count()\n",
        "print(f\"Creating DataLoader's with batch size {BATCH_SIZE} and {NUM_WORKERS} workers.\")\n",
        "\n",
        "# Create DataLoader's\n",
        "train_dataloader_simple = DataLoader(train_data_simple,\n",
        "                                     batch_size=BATCH_SIZE,\n",
        "                                     shuffle=True,\n",
        "                                     num_workers=NUM_WORKERS)\n",
        "\n",
        "test_dataloader_simple = DataLoader(test_data_simple,\n",
        "                                    batch_size=BATCH_SIZE,\n",
        "                                    shuffle=False,\n",
        "                                    num_workers=NUM_WORKERS)\n",
        "\n",
        "train_dataloader_simple, test_dataloader_simple"
      ]
    },
    {
      "cell_type": "code",
      "execution_count": 266,
      "metadata": {
        "id": "9oxoIZ0r5EXx"
      },
      "outputs": [],
      "source": [
        "from torch import nn\n",
        "class tinyVgg(nn.Module):\n",
        "  def __init__(self, input_shape:int,\n",
        "               hidden_units:int,\n",
        "               output_shape:int)->None:\n",
        "               super().__init__()\n",
        "               self.conv_block_1 = nn.Sequential(\n",
        "\n",
        "                   nn.Conv2d(in_channels=input_shape,\n",
        "                             out_channels=hidden_units,\n",
        "                             kernel_size=3,\n",
        "                             stride=1,\n",
        "                             padding=1),\n",
        "                   nn.ReLU(),\n",
        "                   nn.Conv2d(in_channels=hidden_units,\n",
        "                             out_channels=hidden_units,\n",
        "                             kernel_size=3,\n",
        "                             stride=1,\n",
        "                             padding=1),\n",
        "\n",
        "                   nn.ReLU(),\n",
        "                   nn.MaxPool2d(kernel_size=2, stride=2)\n",
        "              )\n",
        "\n",
        "               self.conv_block_2 = nn.Sequential(\n",
        "\n",
        "                 nn.Conv2d(in_channels=hidden_units,\n",
        "                           out_channels=hidden_units,\n",
        "                           kernel_size=3,\n",
        "                           padding=1),\n",
        "                 nn.ReLU(),\n",
        "                 nn.Conv2d(in_channels=hidden_units,\n",
        "                           out_channels=hidden_units,\n",
        "                           kernel_size=3,\n",
        "                           padding=1),\n",
        "                 nn.ReLU(),\n",
        "                 nn.MaxPool2d(kernel_size=2, stride=2)\n",
        "              )\n",
        "               self.classifier = nn.Sequential(\n",
        "                  nn.Flatten(),\n",
        "            # Where did this in_features shape come from?\n",
        "            # It's because each layer of our network compresses and changes the shape of our inputs data.\n",
        "                  nn.Linear(in_features=hidden_units*16*16, out_features=output_shape)\n",
        "              )\n",
        "  def forward(self, x: torch.Tensor):\n",
        "           x = self.conv_block_1(x)\n",
        "          #  print(x.shape)\n",
        "           x = self.conv_block_2(x)\n",
        "          #  print(x.shape)\n",
        "           x = self.classifier(x)\n",
        "          #  print(x.shape)\n",
        "           return x\n",
        "\n",
        "\n",
        "\n"
      ]
    },
    {
      "cell_type": "code",
      "execution_count": 267,
      "metadata": {
        "id": "vArlJ708oT9Z"
      },
      "outputs": [],
      "source": [
        "device = 'cuda' if torch.cuda.is_available() else 'cpu'"
      ]
    },
    {
      "cell_type": "code",
      "execution_count": 268,
      "metadata": {
        "colab": {
          "base_uri": "https://localhost:8080/"
        },
        "id": "ksLy0P7x5EaY",
        "outputId": "7e307a4c-da6c-41a0-be47-15023bd4beb6"
      },
      "outputs": [
        {
          "output_type": "execute_result",
          "data": {
            "text/plain": [
              "tinyVgg(\n",
              "  (conv_block_1): Sequential(\n",
              "    (0): Conv2d(3, 10, kernel_size=(3, 3), stride=(1, 1), padding=(1, 1))\n",
              "    (1): ReLU()\n",
              "    (2): Conv2d(10, 10, kernel_size=(3, 3), stride=(1, 1), padding=(1, 1))\n",
              "    (3): ReLU()\n",
              "    (4): MaxPool2d(kernel_size=2, stride=2, padding=0, dilation=1, ceil_mode=False)\n",
              "  )\n",
              "  (conv_block_2): Sequential(\n",
              "    (0): Conv2d(10, 10, kernel_size=(3, 3), stride=(1, 1), padding=(1, 1))\n",
              "    (1): ReLU()\n",
              "    (2): Conv2d(10, 10, kernel_size=(3, 3), stride=(1, 1), padding=(1, 1))\n",
              "    (3): ReLU()\n",
              "    (4): MaxPool2d(kernel_size=2, stride=2, padding=0, dilation=1, ceil_mode=False)\n",
              "  )\n",
              "  (classifier): Sequential(\n",
              "    (0): Flatten(start_dim=1, end_dim=-1)\n",
              "    (1): Linear(in_features=2560, out_features=9, bias=True)\n",
              "  )\n",
              ")"
            ]
          },
          "metadata": {},
          "execution_count": 268
        }
      ],
      "source": [
        "torch.manual_seed(42)\n",
        "model_0 = tinyVgg(input_shape=3,\n",
        "                  hidden_units=10,\n",
        "                  output_shape=len(train_data.classes)).to(device)\n",
        "model_0\n"
      ]
    },
    {
      "cell_type": "code",
      "execution_count": 269,
      "metadata": {
        "colab": {
          "base_uri": "https://localhost:8080/"
        },
        "id": "S6X_dieM5Ec4",
        "outputId": "c4acbd61-0b36-464f-a327-4fdc54341d33"
      },
      "outputs": [
        {
          "output_type": "execute_result",
          "data": {
            "text/plain": [
              "(torch.Size([32, 3, 64, 64]), torch.Size([32]))"
            ]
          },
          "metadata": {},
          "execution_count": 269
        }
      ],
      "source": [
        "image_batch, label_batch = next(iter(train_dataloader_simple))\n",
        "image_batch.shape, label_batch.shape"
      ]
    },
    {
      "cell_type": "code",
      "execution_count": 270,
      "metadata": {
        "colab": {
          "base_uri": "https://localhost:8080/"
        },
        "id": "WUIIsyC25EfW",
        "outputId": "1b268cc3-02d3-4524-d9a2-eb653ea558b8"
      },
      "outputs": [
        {
          "output_type": "execute_result",
          "data": {
            "text/plain": [
              "tensor([[ 0.0649,  0.0517,  0.0172, -0.0303, -0.0405,  0.0432, -0.0586,  0.0808,\n",
              "         -0.0193],\n",
              "        [ 0.0858,  0.0703,  0.0281, -0.0387, -0.0469,  0.0508, -0.0632,  0.1063,\n",
              "         -0.0219],\n",
              "        [ 0.0858,  0.0703,  0.0281, -0.0387, -0.0469,  0.0508, -0.0632,  0.1063,\n",
              "         -0.0219],\n",
              "        [ 0.0918,  0.0746,  0.0308, -0.0408, -0.0482,  0.0533, -0.0643,  0.1135,\n",
              "         -0.0214],\n",
              "        [ 0.0858,  0.0703,  0.0281, -0.0387, -0.0469,  0.0508, -0.0632,  0.1063,\n",
              "         -0.0219],\n",
              "        [ 0.0662,  0.0549,  0.0214, -0.0314, -0.0401,  0.0435, -0.0577,  0.0849,\n",
              "         -0.0190],\n",
              "        [ 0.0649,  0.0517,  0.0172, -0.0303, -0.0405,  0.0432, -0.0586,  0.0808,\n",
              "         -0.0193],\n",
              "        [ 0.0798,  0.0654,  0.0252, -0.0363, -0.0455,  0.0481, -0.0620,  0.0987,\n",
              "         -0.0218],\n",
              "        [ 0.0649,  0.0517,  0.0172, -0.0303, -0.0405,  0.0432, -0.0586,  0.0808,\n",
              "         -0.0193],\n",
              "        [ 0.0820,  0.0651,  0.0243, -0.0374, -0.0460,  0.0498, -0.0626,  0.0996,\n",
              "         -0.0207],\n",
              "        [ 0.0918,  0.0746,  0.0308, -0.0408, -0.0482,  0.0533, -0.0643,  0.1135,\n",
              "         -0.0214],\n",
              "        [ 0.0820,  0.0651,  0.0243, -0.0374, -0.0460,  0.0498, -0.0626,  0.0996,\n",
              "         -0.0207],\n",
              "        [ 0.0858,  0.0703,  0.0281, -0.0387, -0.0469,  0.0508, -0.0632,  0.1063,\n",
              "         -0.0219],\n",
              "        [ 0.0798,  0.0654,  0.0252, -0.0363, -0.0455,  0.0481, -0.0620,  0.0987,\n",
              "         -0.0218],\n",
              "        [ 0.0918,  0.0746,  0.0308, -0.0408, -0.0482,  0.0533, -0.0643,  0.1135,\n",
              "         -0.0214],\n",
              "        [ 0.0649,  0.0517,  0.0172, -0.0303, -0.0405,  0.0432, -0.0586,  0.0808,\n",
              "         -0.0193],\n",
              "        [ 0.0798,  0.0654,  0.0252, -0.0363, -0.0455,  0.0481, -0.0620,  0.0987,\n",
              "         -0.0218],\n",
              "        [ 0.0662,  0.0549,  0.0214, -0.0314, -0.0401,  0.0435, -0.0577,  0.0849,\n",
              "         -0.0190],\n",
              "        [ 0.0676,  0.0551,  0.0196, -0.0307, -0.0415,  0.0436, -0.0583,  0.0844,\n",
              "         -0.0206],\n",
              "        [ 0.0798,  0.0654,  0.0252, -0.0363, -0.0455,  0.0481, -0.0620,  0.0987,\n",
              "         -0.0218],\n",
              "        [ 0.0820,  0.0651,  0.0243, -0.0374, -0.0460,  0.0498, -0.0626,  0.0996,\n",
              "         -0.0207],\n",
              "        [ 0.0858,  0.0703,  0.0281, -0.0387, -0.0469,  0.0508, -0.0632,  0.1063,\n",
              "         -0.0219],\n",
              "        [ 0.0798,  0.0654,  0.0252, -0.0363, -0.0455,  0.0481, -0.0620,  0.0987,\n",
              "         -0.0218],\n",
              "        [ 0.0798,  0.0654,  0.0252, -0.0363, -0.0455,  0.0481, -0.0620,  0.0987,\n",
              "         -0.0218],\n",
              "        [ 0.0662,  0.0549,  0.0214, -0.0314, -0.0401,  0.0435, -0.0577,  0.0849,\n",
              "         -0.0190],\n",
              "        [ 0.0820,  0.0651,  0.0243, -0.0374, -0.0460,  0.0498, -0.0626,  0.0996,\n",
              "         -0.0207],\n",
              "        [ 0.0858,  0.0703,  0.0281, -0.0387, -0.0469,  0.0508, -0.0632,  0.1063,\n",
              "         -0.0219],\n",
              "        [ 0.0649,  0.0517,  0.0172, -0.0303, -0.0405,  0.0432, -0.0586,  0.0808,\n",
              "         -0.0193],\n",
              "        [ 0.0918,  0.0746,  0.0308, -0.0408, -0.0482,  0.0533, -0.0643,  0.1135,\n",
              "         -0.0214],\n",
              "        [ 0.0858,  0.0703,  0.0281, -0.0387, -0.0469,  0.0508, -0.0632,  0.1063,\n",
              "         -0.0219],\n",
              "        [ 0.0918,  0.0746,  0.0308, -0.0408, -0.0482,  0.0533, -0.0643,  0.1135,\n",
              "         -0.0214],\n",
              "        [ 0.0644,  0.0487,  0.0145, -0.0311, -0.0412,  0.0422, -0.0608,  0.0775,\n",
              "         -0.0167]], device='cuda:0', grad_fn=<AddmmBackward0>)"
            ]
          },
          "metadata": {},
          "execution_count": 270
        }
      ],
      "source": [
        "model_0(image_batch.to(device))"
      ]
    },
    {
      "cell_type": "code",
      "execution_count": 271,
      "metadata": {
        "colab": {
          "base_uri": "https://localhost:8080/"
        },
        "id": "lTautc6M5Eh3",
        "outputId": "3a6e1ada-1efb-49cd-c0d7-ddb539803145"
      },
      "outputs": [
        {
          "output_type": "execute_result",
          "data": {
            "text/plain": [
              "==========================================================================================\n",
              "Layer (type:depth-idx)                   Output Shape              Param #\n",
              "==========================================================================================\n",
              "tinyVgg                                  [1, 9]                    --\n",
              "├─Sequential: 1-1                        [1, 10, 32, 32]           --\n",
              "│    └─Conv2d: 2-1                       [1, 10, 64, 64]           280\n",
              "│    └─ReLU: 2-2                         [1, 10, 64, 64]           --\n",
              "│    └─Conv2d: 2-3                       [1, 10, 64, 64]           910\n",
              "│    └─ReLU: 2-4                         [1, 10, 64, 64]           --\n",
              "│    └─MaxPool2d: 2-5                    [1, 10, 32, 32]           --\n",
              "├─Sequential: 1-2                        [1, 10, 16, 16]           --\n",
              "│    └─Conv2d: 2-6                       [1, 10, 32, 32]           910\n",
              "│    └─ReLU: 2-7                         [1, 10, 32, 32]           --\n",
              "│    └─Conv2d: 2-8                       [1, 10, 32, 32]           910\n",
              "│    └─ReLU: 2-9                         [1, 10, 32, 32]           --\n",
              "│    └─MaxPool2d: 2-10                   [1, 10, 16, 16]           --\n",
              "├─Sequential: 1-3                        [1, 9]                    --\n",
              "│    └─Flatten: 2-11                     [1, 2560]                 --\n",
              "│    └─Linear: 2-12                      [1, 9]                    23,049\n",
              "==========================================================================================\n",
              "Total params: 26,059\n",
              "Trainable params: 26,059\n",
              "Non-trainable params: 0\n",
              "Total mult-adds (M): 6.76\n",
              "==========================================================================================\n",
              "Input size (MB): 0.05\n",
              "Forward/backward pass size (MB): 0.82\n",
              "Params size (MB): 0.10\n",
              "Estimated Total Size (MB): 0.97\n",
              "=========================================================================================="
            ]
          },
          "metadata": {},
          "execution_count": 271
        }
      ],
      "source": [
        "try:\n",
        "    import torchinfo\n",
        "except:\n",
        "    !pip install torchinfo\n",
        "    import torchinfo\n",
        "\n",
        "from torchinfo import summary\n",
        "summary(model_0, input_size=[1, 3, 64, 64])"
      ]
    },
    {
      "cell_type": "code",
      "execution_count": 272,
      "metadata": {
        "id": "doSYOh2Ug2si"
      },
      "outputs": [],
      "source": [
        "def train_step(model: torch.nn.Module,\n",
        "               dataloader: torch.utils.data.DataLoader,\n",
        "               loss_fn: torch.nn.Module,\n",
        "               optimizer: torch.optim.Optimizer):\n",
        "    # Put model in train mode\n",
        "    model.train()\n",
        "\n",
        "    # Setup train loss and train accuracy values\n",
        "    train_loss, train_acc = 0, 0\n",
        "\n",
        "    # Loop through data loader data batches\n",
        "    for batch, (X, y) in enumerate(dataloader):\n",
        "        # Send data to target device\n",
        "        X, y = X.to(device), y.to(device)\n",
        "\n",
        "        # 1. Forward pass\n",
        "        y_pred = model(X)\n",
        "\n",
        "        # 2. Calculate  and accumulate loss\n",
        "        loss = loss_fn(y_pred, y)\n",
        "        train_loss += loss.item()\n",
        "\n",
        "        # 3. Optimizer zero grad\n",
        "        optimizer.zero_grad()\n",
        "\n",
        "        # 4. Loss backward\n",
        "        loss.backward()\n",
        "\n",
        "        # 5. Optimizer step\n",
        "        optimizer.step()\n",
        "\n",
        "        # Calculate and accumulate accuracy metric across all batches\n",
        "        y_pred_class = torch.argmax(torch.softmax(y_pred, dim=1), dim=1)\n",
        "        train_acc += (y_pred_class == y).sum().item()/len(y_pred)\n",
        "\n",
        "    # Adjust metrics to get average loss and accuracy per batch\n",
        "    train_loss = train_loss / len(dataloader)\n",
        "    train_acc = train_acc / len(dataloader)\n",
        "    return train_loss, train_acc"
      ]
    },
    {
      "cell_type": "code",
      "execution_count": 273,
      "metadata": {
        "id": "w0fhh8XHg2u4"
      },
      "outputs": [],
      "source": [
        "def test_step(model: torch.nn.Module,\n",
        "              dataloader: torch.utils.data.DataLoader,\n",
        "              loss_fn: torch.nn.Module):\n",
        "    # Put model in eval mode\n",
        "    model.eval()\n",
        "\n",
        "    # Setup test loss and test accuracy values\n",
        "    test_loss, test_acc = 0, 0\n",
        "\n",
        "    # Turn on inference context manager\n",
        "    with torch.inference_mode():\n",
        "        # Loop through DataLoader batches\n",
        "        for batch, (X, y) in enumerate(dataloader):\n",
        "            # Send data to target device\n",
        "            X, y = X.to(device), y.to(device)\n",
        "\n",
        "            # 1. Forward pass\n",
        "            test_pred_logits = model(X)\n",
        "\n",
        "            # 2. Calculate and accumulate loss\n",
        "            loss = loss_fn(test_pred_logits, y)\n",
        "            test_loss += loss.item()\n",
        "\n",
        "            # Calculate and accumulate accuracy\n",
        "            test_pred_labels = test_pred_logits.argmax(dim=1)\n",
        "            test_acc += ((test_pred_labels == y).sum().item()/len(test_pred_labels))\n",
        "\n",
        "    # Adjust metrics to get average loss and accuracy per batch\n",
        "    test_loss = test_loss / len(dataloader)\n",
        "    test_acc = test_acc / len(dataloader)\n",
        "    return test_loss, test_acc"
      ]
    },
    {
      "cell_type": "code",
      "execution_count": 274,
      "metadata": {
        "id": "jl64qfYgg2xO"
      },
      "outputs": [],
      "source": [
        "from tqdm.auto import tqdm\n",
        "\n",
        "# 1. Take in various parameters required for training and test steps\n",
        "def train(model: torch.nn.Module,\n",
        "          train_dataloader: torch.utils.data.DataLoader,\n",
        "          test_dataloader: torch.utils.data.DataLoader,\n",
        "          optimizer: torch.optim.Optimizer,\n",
        "          loss_fn: torch.nn.Module = nn.CrossEntropyLoss(),\n",
        "          epochs: int = 5):\n",
        "\n",
        "    # 2. Create empty results dictionary\n",
        "    results = {\"train_loss\": [],\n",
        "        \"train_acc\": [],\n",
        "        \"test_loss\": [],\n",
        "        \"test_acc\": []\n",
        "    }\n",
        "\n",
        "    # 3. Loop through training and testing steps for a number of epochs\n",
        "    for epoch in tqdm(range(epochs)):\n",
        "        train_loss, train_acc = train_step(model=model,\n",
        "                                           dataloader=train_dataloader,\n",
        "                                           loss_fn=loss_fn,\n",
        "                                           optimizer=optimizer)\n",
        "        test_loss, test_acc = test_step(model=model,\n",
        "            dataloader=test_dataloader,\n",
        "            loss_fn=loss_fn)\n",
        "\n",
        "        # 4. Print out what's happening\n",
        "        print(\n",
        "            f\"Epoch: {epoch+1} | \"\n",
        "            f\"train_loss: {train_loss:.4f} | \"\n",
        "            f\"train_acc: {train_acc:.4f} | \"\n",
        "            f\"test_loss: {test_loss:.4f} | \"\n",
        "            f\"test_acc: {test_acc:.4f}\"\n",
        "        )\n",
        "\n",
        "        # 5. Update results dictionary\n",
        "        results[\"train_loss\"].append(train_loss)\n",
        "        results[\"train_acc\"].append(train_acc)\n",
        "        results[\"test_loss\"].append(test_loss)\n",
        "        results[\"test_acc\"].append(test_acc)\n",
        "\n",
        "    # 6. Return the filled results at the end of the epochs\n",
        "    return results"
      ]
    },
    {
      "cell_type": "code",
      "source": [],
      "metadata": {
        "id": "QtKxICsnJHTw"
      },
      "execution_count": 274,
      "outputs": []
    },
    {
      "cell_type": "code",
      "execution_count": 275,
      "metadata": {
        "colab": {
          "base_uri": "https://localhost:8080/",
          "height": 285,
          "referenced_widgets": [
            "b5bccc4f23f14369b2169f147eb5888c",
            "f8f2bfa3efdb45c782f98faa01f83853",
            "76d0be5d321347acadf4cc708afeb89d",
            "977b526426d045ad85dc5d24e4e16552",
            "8247ee0d38ec40c4a6725c0d832eea16",
            "5e07be51970347f494e5c5f82f4af812",
            "43b986624c05412bbd5e4ce7d99c7ebe",
            "b23a0a25a47c410f9e0a4e551157e0b4",
            "2726f33624f74d7a8777f6e5b44e329f",
            "fa2bd160499b4259983b53d5383ec890",
            "3ecd644ddf7f4e95bfb0452a1cfe4711"
          ]
        },
        "id": "Yf98yF5Hg2zq",
        "outputId": "d4303153-1cfc-457c-f792-62ad3ab2d6c9"
      },
      "outputs": [
        {
          "output_type": "display_data",
          "data": {
            "text/plain": [
              "  0%|          | 0/12 [00:00<?, ?it/s]"
            ],
            "application/vnd.jupyter.widget-view+json": {
              "version_major": 2,
              "version_minor": 0,
              "model_id": "b5bccc4f23f14369b2169f147eb5888c"
            }
          },
          "metadata": {}
        },
        {
          "output_type": "stream",
          "name": "stdout",
          "text": [
            "Epoch: 1 | train_loss: 2.0505 | train_acc: 0.1667 | test_loss: 2.1141 | test_acc: 0.0938\n",
            "Epoch: 2 | train_loss: 1.7161 | train_acc: 0.2859 | test_loss: 1.6312 | test_acc: 0.2408\n",
            "Epoch: 3 | train_loss: 1.3316 | train_acc: 0.4375 | test_loss: 1.3478 | test_acc: 0.3483\n",
            "Epoch: 4 | train_loss: 0.9485 | train_acc: 0.6083 | test_loss: 0.8279 | test_acc: 0.7812\n",
            "Epoch: 5 | train_loss: 0.6010 | train_acc: 0.7911 | test_loss: 0.5011 | test_acc: 0.7812\n",
            "Epoch: 6 | train_loss: 0.3585 | train_acc: 0.8370 | test_loss: 0.3530 | test_acc: 0.6875\n",
            "Epoch: 7 | train_loss: 0.2309 | train_acc: 0.9062 | test_loss: 0.1938 | test_acc: 1.0000\n",
            "Epoch: 8 | train_loss: 0.1106 | train_acc: 1.0000 | test_loss: 0.0866 | test_acc: 1.0000\n",
            "Epoch: 9 | train_loss: 0.0430 | train_acc: 1.0000 | test_loss: 0.0283 | test_acc: 1.0000\n",
            "Epoch: 10 | train_loss: 0.0159 | train_acc: 1.0000 | test_loss: 0.0112 | test_acc: 1.0000\n",
            "Epoch: 11 | train_loss: 0.0070 | train_acc: 1.0000 | test_loss: 0.0062 | test_acc: 1.0000\n",
            "Epoch: 12 | train_loss: 0.0037 | train_acc: 1.0000 | test_loss: 0.0033 | test_acc: 1.0000\n",
            "Total training time: 9.998 seconds\n"
          ]
        }
      ],
      "source": [
        "# Set random seeds\n",
        "torch.manual_seed(42)\n",
        "torch.cuda.manual_seed(42)\n",
        "\n",
        "# Set number of epochs\n",
        "NUM_EPOCHS = 12\n",
        "\n",
        "# Recreate an instance of TinyVGG\n",
        "model_0 = tinyVgg(input_shape=3, # number of color channels (3 for RGB)\n",
        "                  hidden_units=10,\n",
        "                  output_shape=len(train_data.classes)).to(device)\n",
        "\n",
        "# Setup loss function and optimizer\n",
        "loss_fn = nn.CrossEntropyLoss()\n",
        "optimizer = torch.optim.Adam(params=model_0.parameters(), lr=0.001)\n",
        "\n",
        "# Start the timer\n",
        "from timeit import default_timer as timer\n",
        "start_time = timer()\n",
        "\n",
        "# Train model_0\n",
        "model_0_results = train(model=model_0,\n",
        "                        train_dataloader=train_dataloader_simple,\n",
        "                        test_dataloader=test_dataloader_simple,\n",
        "                        optimizer=optimizer,\n",
        "                        loss_fn=loss_fn,\n",
        "                        epochs=NUM_EPOCHS)\n",
        "\n",
        "# End the timer and print out how long it took\n",
        "end_time = timer()\n",
        "print(f\"Total training time: {end_time-start_time:.3f} seconds\")"
      ]
    },
    {
      "cell_type": "code",
      "execution_count": 276,
      "metadata": {
        "id": "ouUv5AOcg22M"
      },
      "outputs": [],
      "source": [
        "def plot_loss_curves(results: Dict[str, List[float]]):\n",
        "    \"\"\"Plots training curves of a results dictionary.\n",
        "\n",
        "    Args:\n",
        "        results (dict): dictionary containing list of values, e.g.\n",
        "            {\"train_loss\": [...],\n",
        "             \"train_acc\": [...],\n",
        "             \"test_loss\": [...],\n",
        "             \"test_acc\": [...]}\n",
        "    \"\"\"\n",
        "\n",
        "    # Get the loss values of the results dictionary (training and test)\n",
        "    loss = results['train_loss']\n",
        "    test_loss = results['test_loss']\n",
        "\n",
        "    # Get the accuracy values of the results dictionary (training and test)\n",
        "    accuracy = results['train_acc']\n",
        "    test_accuracy = results['test_acc']\n",
        "\n",
        "    # Figure out how many epochs there were\n",
        "    epochs = range(len(results['train_loss']))\n",
        "\n",
        "    # Setup a plot\n",
        "    plt.figure(figsize=(15, 7))\n",
        "\n",
        "    # Plot loss\n",
        "    plt.subplot(1, 2, 1)\n",
        "    plt.plot(epochs, loss, label='train_loss')\n",
        "    plt.plot(epochs, test_loss, label='test_loss')\n",
        "    plt.title('Loss')\n",
        "    plt.xlabel('Epochs')\n",
        "    plt.legend()\n",
        "\n",
        "    # Plot accuracy\n",
        "    plt.subplot(1, 2, 2)\n",
        "    plt.plot(epochs, accuracy, label='train_accuracy')\n",
        "    plt.plot(epochs, test_accuracy, label='test_accuracy')\n",
        "    plt.title('Accuracy')\n",
        "    plt.xlabel('Epochs')\n",
        "    plt.legend();"
      ]
    },
    {
      "cell_type": "code",
      "execution_count": 277,
      "metadata": {
        "id": "CnzFc6aGg25q",
        "colab": {
          "base_uri": "https://localhost:8080/",
          "height": 641
        },
        "outputId": "d96edbb3-a279-405a-9423-86fa382bbaee"
      },
      "outputs": [
        {
          "output_type": "display_data",
          "data": {
            "text/plain": [
              "<Figure size 1500x700 with 2 Axes>"
            ],
            "image/png": "[encoded data removed]"
          },
          "metadata": {}
        }
      ],
      "source": [
        "plot_loss_curves(model_0_results)"
      ]
    },
    {
      "cell_type": "code",
      "execution_count": 278,
      "metadata": {
        "id": "m4Xkrx2l5EkM",
        "colab": {
          "base_uri": "https://localhost:8080/",
          "height": 425
        },
        "outputId": "9e442ebc-fc28-46b2-e10e-15e2bca774ce"
      },
      "outputs": [
        {
          "output_type": "execute_result",
          "data": {
            "text/plain": [
              "    train_loss  train_acc  test_loss  test_acc\n",
              "0     2.050461   0.166667   2.114089  0.093750\n",
              "1     1.716071   0.285938   1.631212  0.240809\n",
              "2     1.331596   0.437500   1.347754  0.348346\n",
              "3     0.948513   0.608333   0.827879  0.781250\n",
              "4     0.601024   0.791146   0.501057  0.781250\n",
              "5     0.358457   0.836979   0.353010  0.687500\n",
              "6     0.230876   0.906250   0.193846  1.000000\n",
              "7     0.110627   1.000000   0.086600  1.000000\n",
              "8     0.043024   1.000000   0.028297  1.000000\n",
              "9     0.015898   1.000000   0.011199  1.000000\n",
              "10    0.007048   1.000000   0.006207  1.000000\n",
              "11    0.003700   1.000000   0.003330  1.000000"
            ],
            "text/html": [
              "\n",
              "  <div id=\"df-e06f476f-0556-4ca4-87fc-fb0207cfd103\" class=\"colab-df-container\">\n",
              "    <div>\n",
              "<style scoped>\n",
              "    .dataframe tbody tr th:only-of-type {\n",
              "        vertical-align: middle;\n",
              "    }\n",
              "\n",
              "    .dataframe tbody tr th {\n",
              "        vertical-align: top;\n",
              "    }\n",
              "\n",
              "    .dataframe thead th {\n",
              "        text-align: right;\n",
              "    }\n",
              "</style>\n",
              "<table border=\"1\" class=\"dataframe\">\n",
              "  <thead>\n",
              "    <tr style=\"text-align: right;\">\n",
              "      <th></th>\n",
              "      <th>train_loss</th>\n",
              "      <th>train_acc</th>\n",
              "      <th>test_loss</th>\n",
              "      <th>test_acc</th>\n",
              "    </tr>\n",
              "  </thead>\n",
              "  <tbody>\n",
              "    <tr>\n",
              "      <th>0</th>\n",
              "      <td>2.050461</td>\n",
              "      <td>0.166667</td>\n",
              "      <td>2.114089</td>\n",
              "      <td>0.093750</td>\n",
              "    </tr>\n",
              "    <tr>\n",
              "      <th>1</th>\n",
              "      <td>1.716071</td>\n",
              "      <td>0.285938</td>\n",
              "      <td>1.631212</td>\n",
              "      <td>0.240809</td>\n",
              "    </tr>\n",
              "    <tr>\n",
              "      <th>2</th>\n",
              "      <td>1.331596</td>\n",
              "      <td>0.437500</td>\n",
              "      <td>1.347754</td>\n",
              "      <td>0.348346</td>\n",
              "    </tr>\n",
              "    <tr>\n",
              "      <th>3</th>\n",
              "      <td>0.948513</td>\n",
              "      <td>0.608333</td>\n",
              "      <td>0.827879</td>\n",
              "      <td>0.781250</td>\n",
              "    </tr>\n",
              "    <tr>\n",
              "      <th>4</th>\n",
              "      <td>0.601024</td>\n",
              "      <td>0.791146</td>\n",
              "      <td>0.501057</td>\n",
              "      <td>0.781250</td>\n",
              "    </tr>\n",
              "    <tr>\n",
              "      <th>5</th>\n",
              "      <td>0.358457</td>\n",
              "      <td>0.836979</td>\n",
              "      <td>0.353010</td>\n",
              "      <td>0.687500</td>\n",
              "    </tr>\n",
              "    <tr>\n",
              "      <th>6</th>\n",
              "      <td>0.230876</td>\n",
              "      <td>0.906250</td>\n",
              "      <td>0.193846</td>\n",
              "      <td>1.000000</td>\n",
              "    </tr>\n",
              "    <tr>\n",
              "      <th>7</th>\n",
              "      <td>0.110627</td>\n",
              "      <td>1.000000</td>\n",
              "      <td>0.086600</td>\n",
              "      <td>1.000000</td>\n",
              "    </tr>\n",
              "    <tr>\n",
              "      <th>8</th>\n",
              "      <td>0.043024</td>\n",
              "      <td>1.000000</td>\n",
              "      <td>0.028297</td>\n",
              "      <td>1.000000</td>\n",
              "    </tr>\n",
              "    <tr>\n",
              "      <th>9</th>\n",
              "      <td>0.015898</td>\n",
              "      <td>1.000000</td>\n",
              "      <td>0.011199</td>\n",
              "      <td>1.000000</td>\n",
              "    </tr>\n",
              "    <tr>\n",
              "      <th>10</th>\n",
              "      <td>0.007048</td>\n",
              "      <td>1.000000</td>\n",
              "      <td>0.006207</td>\n",
              "      <td>1.000000</td>\n",
              "    </tr>\n",
              "    <tr>\n",
              "      <th>11</th>\n",
              "      <td>0.003700</td>\n",
              "      <td>1.000000</td>\n",
              "      <td>0.003330</td>\n",
              "      <td>1.000000</td>\n",
              "    </tr>\n",
              "  </tbody>\n",
              "</table>\n",
              "</div>\n",
              "    <div class=\"colab-df-buttons\">\n",
              "\n",
              "  <div class=\"colab-df-container\">\n",
              "    <button class=\"colab-df-convert\" onclick=\"convertToInteractive('df-e06f476f-0556-4ca4-87fc-fb0207cfd103')\"\n",
              "            title=\"Convert this dataframe to an interactive table.\"\n",
              "            style=\"display:none;\">\n",
              "\n",
              "  <svg xmlns=\"http://www.w3.org/2000/svg\" height=\"24px\" viewBox=\"0 -960 960 960\">\n",
              "    <path d=\"M120-120v-720h720v720H120Zm60-500h600v-160H180v160Zm220 220h160v-160H400v160Zm0 220h160v-160H400v160ZM180-400h160v-160H180v160Zm440 0h160v-160H620v160ZM180-180h160v-160H180v160Zm440 0h160v-160H620v160Z\"/>\n",
              "  </svg>\n",
              "    </button>\n",
              "\n",
              "  <style>\n",
              "    .colab-df-container {\n",
              "      display:flex;\n",
              "      gap: 12px;\n",
              "    }\n",
              "\n",
              "    .colab-df-convert {\n",
              "      background-color: #E8F0FE;\n",
              "      border: none;\n",
              "      border-radius: 50%;\n",
              "      cursor: pointer;\n",
              "      display: none;\n",
              "      fill: #1967D2;\n",
              "      height: 32px;\n",
              "      padding: 0 0 0 0;\n",
              "      width: 32px;\n",
              "    }\n",
              "\n",
              "    .colab-df-convert:hover {\n",
              "      background-color: #E2EBFA;\n",
              "      box-shadow: 0px 1px 2px rgba(60, 64, 67, 0.3), 0px 1px 3px 1px rgba(60, 64, 67, 0.15);\n",
              "      fill: #174EA6;\n",
              "    }\n",
              "\n",
              "    .colab-df-buttons div {\n",
              "      margin-bottom: 4px;\n",
              "    }\n",
              "\n",
              "    [theme=dark] .colab-df-convert {\n",
              "      background-color: #3B4455;\n",
              "      fill: #D2E3FC;\n",
              "    }\n",
              "\n",
              "    [theme=dark] .colab-df-convert:hover {\n",
              "      background-color: #434B5C;\n",
              "      box-shadow: 0px 1px 3px 1px rgba(0, 0, 0, 0.15);\n",
              "      filter: drop-shadow(0px 1px 2px rgba(0, 0, 0, 0.3));\n",
              "      fill: #FFFFFF;\n",
              "    }\n",
              "  </style>\n",
              "\n",
              "    <script>\n",
              "      const buttonEl =\n",
              "        document.querySelector('#df-e06f476f-0556-4ca4-87fc-fb0207cfd103 button.colab-df-convert');\n",
              "      buttonEl.style.display =\n",
              "        google.colab.kernel.accessAllowed ? 'block' : 'none';\n",
              "\n",
              "      async function convertToInteractive(key) {\n",
              "        const element = document.querySelector('#df-e06f476f-0556-4ca4-87fc-fb0207cfd103');\n",
              "        const dataTable =\n",
              "          await google.colab.kernel.invokeFunction('convertToInteractive',\n",
              "                                                    [key], {});\n",
              "        if (!dataTable) return;\n",
              "\n",
              "        const docLinkHtml = 'Like what you see? Visit the ' +\n",
              "          '<a target=\"_blank\" href=https://colab.research.google.com/notebooks/data_table.ipynb>data table notebook</a>'\n",
              "          + ' to learn more about interactive tables.';\n",
              "        element.innerHTML = '';\n",
              "        dataTable['output_type'] = 'display_data';\n",
              "        await google.colab.output.renderOutput(dataTable, element);\n",
              "        const docLink = document.createElement('div');\n",
              "        docLink.innerHTML = docLinkHtml;\n",
              "        element.appendChild(docLink);\n",
              "      }\n",
              "    </script>\n",
              "  </div>\n",
              "\n",
              "\n",
              "<div id=\"df-5aa0cb38-00d1-4d7c-ba12-bba53b1a4973\">\n",
              "  <button class=\"colab-df-quickchart\" onclick=\"quickchart('df-5aa0cb38-00d1-4d7c-ba12-bba53b1a4973')\"\n",
              "            title=\"Suggest charts\"\n",
              "            style=\"display:none;\">\n",
              "\n",
              "<svg xmlns=\"http://www.w3.org/2000/svg\" height=\"24px\"viewBox=\"0 0 24 24\"\n",
              "     width=\"24px\">\n",
              "    <g>\n",
              "        <path d=\"M19 3H5c-1.1 0-2 .9-2 2v14c0 1.1.9 2 2 2h14c1.1 0 2-.9 2-2V5c0-1.1-.9-2-2-2zM9 17H7v-7h2v7zm4 0h-2V7h2v10zm4 0h-2v-4h2v4z\"/>\n",
              "    </g>\n",
              "</svg>\n",
              "  </button>\n",
              "\n",
              "<style>\n",
              "  .colab-df-quickchart {\n",
              "      --bg-color: #E8F0FE;\n",
              "      --fill-color: #1967D2;\n",
              "      --hover-bg-color: #E2EBFA;\n",
              "      --hover-fill-color: #174EA6;\n",
              "      --disabled-fill-color: #AAA;\n",
              "      --disabled-bg-color: #DDD;\n",
              "  }\n",
              "\n",
              "  [theme=dark] .colab-df-quickchart {\n",
              "      --bg-color: #3B4455;\n",
              "      --fill-color: #D2E3FC;\n",
              "      --hover-bg-color: #434B5C;\n",
              "      --hover-fill-color: #FFFFFF;\n",
              "      --disabled-bg-color: #3B4455;\n",
              "      --disabled-fill-color: #666;\n",
              "  }\n",
              "\n",
              "  .colab-df-quickchart {\n",
              "    background-color: var(--bg-color);\n",
              "    border: none;\n",
              "    border-radius: 50%;\n",
              "    cursor: pointer;\n",
              "    display: none;\n",
              "    fill: var(--fill-color);\n",
              "    height: 32px;\n",
              "    padding: 0;\n",
              "    width: 32px;\n",
              "  }\n",
              "\n",
              "  .colab-df-quickchart:hover {\n",
              "    background-color: var(--hover-bg-color);\n",
              "    box-shadow: 0 1px 2px rgba(60, 64, 67, 0.3), 0 1px 3px 1px rgba(60, 64, 67, 0.15);\n",
              "    fill: var(--button-hover-fill-color);\n",
              "  }\n",
              "\n",
              "  .colab-df-quickchart-complete:disabled,\n",
              "  .colab-df-quickchart-complete:disabled:hover {\n",
              "    background-color: var(--disabled-bg-color);\n",
              "    fill: var(--disabled-fill-color);\n",
              "    box-shadow: none;\n",
              "  }\n",
              "\n",
              "  .colab-df-spinner {\n",
              "    border: 2px solid var(--fill-color);\n",
              "    border-color: transparent;\n",
              "    border-bottom-color: var(--fill-color);\n",
              "    animation:\n",
              "      spin 1s steps(1) infinite;\n",
              "  }\n",
              "\n",
              "  @keyframes spin {\n",
              "    0% {\n",
              "      border-color: transparent;\n",
              "      border-bottom-color: var(--fill-color);\n",
              "      border-left-color: var(--fill-color);\n",
              "    }\n",
              "    20% {\n",
              "      border-color: transparent;\n",
              "      border-left-color: var(--fill-color);\n",
              "      border-top-color: var(--fill-color);\n",
              "    }\n",
              "    30% {\n",
              "      border-color: transparent;\n",
              "      border-left-color: var(--fill-color);\n",
              "      border-top-color: var(--fill-color);\n",
              "      border-right-color: var(--fill-color);\n",
              "    }\n",
              "    40% {\n",
              "      border-color: transparent;\n",
              "      border-right-color: var(--fill-color);\n",
              "      border-top-color: var(--fill-color);\n",
              "    }\n",
              "    60% {\n",
              "      border-color: transparent;\n",
              "      border-right-color: var(--fill-color);\n",
              "    }\n",
              "    80% {\n",
              "      border-color: transparent;\n",
              "      border-right-color: var(--fill-color);\n",
              "      border-bottom-color: var(--fill-color);\n",
              "    }\n",
              "    90% {\n",
              "      border-color: transparent;\n",
              "      border-bottom-color: var(--fill-color);\n",
              "    }\n",
              "  }\n",
              "</style>\n",
              "\n",
              "  <script>\n",
              "    async function quickchart(key) {\n",
              "      const quickchartButtonEl =\n",
              "        document.querySelector('#' + key + ' button');\n",
              "      quickchartButtonEl.disabled = true;  // To prevent multiple clicks.\n",
              "      quickchartButtonEl.classList.add('colab-df-spinner');\n",
              "      try {\n",
              "        const charts = await google.colab.kernel.invokeFunction(\n",
              "            'suggestCharts', [key], {});\n",
              "      } catch (error) {\n",
              "        console.error('Error during call to suggestCharts:', error);\n",
              "      }\n",
              "      quickchartButtonEl.classList.remove('colab-df-spinner');\n",
              "      quickchartButtonEl.classList.add('colab-df-quickchart-complete');\n",
              "    }\n",
              "    (() => {\n",
              "      let quickchartButtonEl =\n",
              "        document.querySelector('#df-5aa0cb38-00d1-4d7c-ba12-bba53b1a4973 button');\n",
              "      quickchartButtonEl.style.display =\n",
              "        google.colab.kernel.accessAllowed ? 'block' : 'none';\n",
              "    })();\n",
              "  </script>\n",
              "</div>\n",
              "\n",
              "  <div id=\"id_39e9c705-226c-4f61-99b7-fe833b3ab84e\">\n",
              "    <style>\n",
              "      .colab-df-generate {\n",
              "        background-color: #E8F0FE;\n",
              "        border: none;\n",
              "        border-radius: 50%;\n",
              "        cursor: pointer;\n",
              "        display: none;\n",
              "        fill: #1967D2;\n",
              "        height: 32px;\n",
              "        padding: 0 0 0 0;\n",
              "        width: 32px;\n",
              "      }\n",
              "\n",
              "      .colab-df-generate:hover {\n",
              "        background-color: #E2EBFA;\n",
              "        box-shadow: 0px 1px 2px rgba(60, 64, 67, 0.3), 0px 1px 3px 1px rgba(60, 64, 67, 0.15);\n",
              "        fill: #174EA6;\n",
              "      }\n",
              "\n",
              "      [theme=dark] .colab-df-generate {\n",
              "        background-color: #3B4455;\n",
              "        fill: #D2E3FC;\n",
              "      }\n",
              "\n",
              "      [theme=dark] .colab-df-generate:hover {\n",
              "        background-color: #434B5C;\n",
              "        box-shadow: 0px 1px 3px 1px rgba(0, 0, 0, 0.15);\n",
              "        filter: drop-shadow(0px 1px 2px rgba(0, 0, 0, 0.3));\n",
              "        fill: #FFFFFF;\n",
              "      }\n",
              "    </style>\n",
              "    <button class=\"colab-df-generate\" onclick=\"generateWithVariable('model_dataframs_acc')\"\n",
              "            title=\"Generate code using this dataframe.\"\n",
              "            style=\"display:none;\">\n",
              "\n",
              "  <svg xmlns=\"http://www.w3.org/2000/svg\" height=\"24px\"viewBox=\"0 0 24 24\"\n",
              "       width=\"24px\">\n",
              "    <path d=\"M7,19H8.4L18.45,9,17,7.55,7,17.6ZM5,21V16.75L18.45,3.32a2,2,0,0,1,2.83,0l1.4,1.43a1.91,1.91,0,0,1,.58,1.4,1.91,1.91,0,0,1-.58,1.4L9.25,21ZM18.45,9,17,7.55Zm-12,3A5.31,5.31,0,0,0,4.9,8.1,5.31,5.31,0,0,0,1,6.5,5.31,5.31,0,0,0,4.9,4.9,5.31,5.31,0,0,0,6.5,1,5.31,5.31,0,0,0,8.1,4.9,5.31,5.31,0,0,0,12,6.5,5.46,5.46,0,0,0,6.5,12Z\"/>\n",
              "  </svg>\n",
              "    </button>\n",
              "    <script>\n",
              "      (() => {\n",
              "      const buttonEl =\n",
              "        document.querySelector('#id_39e9c705-226c-4f61-99b7-fe833b3ab84e button.colab-df-generate');\n",
              "      buttonEl.style.display =\n",
              "        google.colab.kernel.accessAllowed ? 'block' : 'none';\n",
              "\n",
              "      buttonEl.onclick = () => {\n",
              "        google.colab.notebook.generateWithVariable('model_dataframs_acc');\n",
              "      }\n",
              "      })();\n",
              "    </script>\n",
              "  </div>\n",
              "\n",
              "    </div>\n",
              "  </div>\n"
            ],
            "application/vnd.google.colaboratory.intrinsic+json": {
              "type": "dataframe",
              "variable_name": "model_dataframs_acc",
              "summary": "{\n  \"name\": \"model_dataframs_acc\",\n  \"rows\": 12,\n  \"fields\": [\n    {\n      \"column\": \"train_loss\",\n      \"properties\": {\n        \"dtype\": \"number\",\n        \"std\": 0.7258136294325231,\n        \"min\": 0.003699641500134021,\n        \"max\": 2.050461083650589,\n        \"num_unique_values\": 12,\n        \"samples\": [\n          0.007047571164245407,\n          0.015897651901468635,\n          2.050461083650589\n        ],\n        \"semantic_type\": \"\",\n        \"description\": \"\"\n      }\n    },\n    {\n      \"column\": \"train_acc\",\n      \"properties\": {\n        \"dtype\": \"number\",\n        \"std\": 0.3044279541553763,\n        \"min\": 0.16666666666666666,\n        \"max\": 1.0,\n        \"num_unique_values\": 8,\n        \"samples\": [\n          0.2859375,\n          0.8369791666666666,\n          0.16666666666666666\n        ],\n        \"semantic_type\": \"\",\n        \"description\": \"\"\n      }\n    },\n    {\n      \"column\": \"test_loss\",\n      \"properties\": {\n        \"dtype\": \"number\",\n        \"std\": 0.7291114285890156,\n        \"min\": 0.0033297810005024076,\n        \"max\": 2.114089250564575,\n        \"num_unique_values\": 12,\n        \"samples\": [\n          0.006207009020727128,\n          0.011199475964531302,\n          2.114089250564575\n        ],\n        \"semantic_type\": \"\",\n        \"description\": \"\"\n      }\n    },\n    {\n      \"column\": \"test_acc\",\n      \"properties\": {\n        \"dtype\": \"number\",\n        \"std\": 0.3346300816082838,\n        \"min\": 0.09375,\n        \"max\": 1.0,\n        \"num_unique_values\": 6,\n        \"samples\": [\n          0.09375,\n          0.24080882352941177,\n          1.0\n        ],\n        \"semantic_type\": \"\",\n        \"description\": \"\"\n      }\n    }\n  ]\n}"
            }
          },
          "metadata": {},
          "execution_count": 278
        }
      ],
      "source": [
        "import pandas as pd\n",
        "\n",
        "model_dataframs_acc = pd.DataFrame(model_0_results)\n",
        "model_dataframs_acc"
      ]
    },
    {
      "cell_type": "code",
      "execution_count": 279,
      "metadata": {
        "id": "eI0TwTqGRIai"
      },
      "outputs": [],
      "source": [
        "def make_predictions(model: torch.nn.Module, data: list, device: torch.device = device):\n",
        "    pred_probs = []\n",
        "    model.eval()\n",
        "    with torch.inference_mode():\n",
        "        for sample in data:\n",
        "            # Prepare sample\n",
        "            sample = torch.unsqueeze(sample, dim=0).to(device) # Add an extra dimension and send sample to device\n",
        "\n",
        "            # Forward pass (model outputs raw logit)\n",
        "            pred_logit = model(sample)\n",
        "\n",
        "            # Get prediction probability (logit -> prediction probability)\n",
        "            pred_prob = torch.softmax(pred_logit.squeeze(), dim=0) # note: perform softmax on the \"logits\" dimension, not \"batch\" dimension (in this case we have a batch size of 1, so can perform on dim=0)\n",
        "\n",
        "            # Get pred_prob off GPU for further calculations\n",
        "            pred_probs.append(pred_prob.cpu())\n",
        "\n",
        "    # Stack the pred_probs to turn list into a tensor\n",
        "    return torch.stack(pred_probs)"
      ]
    },
    {
      "cell_type": "code",
      "execution_count": 280,
      "metadata": {
        "id": "nn_ZSGkuRMSS",
        "colab": {
          "base_uri": "https://localhost:8080/"
        },
        "outputId": "d3084829-ebdb-445e-8973-dbfe3354f50a"
      },
      "outputs": [
        {
          "output_type": "stream",
          "name": "stdout",
          "text": [
            "Test sample image shape: torch.Size([3, 64, 64])\n",
            "Test sample label: 7 (white)\n"
          ]
        }
      ],
      "source": [
        "import random\n",
        "random.seed(42)\n",
        "test_samples = []\n",
        "test_labels = []\n",
        "for sample, label in random.sample(list(test_data), k=9):\n",
        "    test_samples.append(sample)\n",
        "    test_labels.append(label)\n",
        "\n",
        "# View the first test sample shape and label\n",
        "print(f\"Test sample image shape: {test_samples[0].shape}\\nTest sample label: {test_labels[0]} ({train_data.classes[test_labels[0]]})\")"
      ]
    },
    {
      "cell_type": "code",
      "source": [
        "from pathlib import Path\n",
        "\n",
        "\n",
        "MODEL_PATH = Path(\"models\")\n",
        "MODEL_PATH.mkdir(parents=True,\n",
        "                 exist_ok=True\n",
        ")\n",
        "\n",
        "# Create model save path\n",
        "MODEL_NAME_1 = \"03_pytorch_computer_vision_model_2.h5\"\n",
        "MODEL_SAVE_PATH_1 = MODEL_PATH / MODEL_NAME_1\n",
        "\n",
        "# Save the model state dict\n",
        "print(f\"Saving model to: {MODEL_SAVE_PATH_1}\")\n",
        "torch.save(obj=model_0.state_dict(), # only saving the state_dict() only saves the learned parameters\n",
        "           f=MODEL_SAVE_PATH_1)"
      ],
      "metadata": {
        "colab": {
          "base_uri": "https://localhost:8080/"
        },
        "id": "plnkcCaR1Mgi",
        "outputId": "548df8ac-3029-41e0-ed22-c8b5cab4cfe7"
      },
      "execution_count": 281,
      "outputs": [
        {
          "output_type": "stream",
          "name": "stdout",
          "text": [
            "Saving model to: models/03_pytorch_computer_vision_model_2.h5\n"
          ]
        }
      ]
    },
    {
      "cell_type": "code",
      "source": [
        "# from torchvision.models import l\n",
        "# model = load_model('/content/drive/MyDrive/Colab Notebooks/LumpyDisease.h5')"
      ],
      "metadata": {
        "id": "gHMax2A81-p_"
      },
      "execution_count": 282,
      "outputs": []
    },
    {
      "cell_type": "code",
      "source": [
        "model_0.load_state_dict(torch.load(\"/content/models/03_pytorch_computer_vision_model_2.h5\"))\n",
        "model_0.eval()"
      ],
      "metadata": {
        "colab": {
          "base_uri": "https://localhost:8080/"
        },
        "id": "6aA0ZRLb1-sI",
        "outputId": "8a8ccaad-d2bd-4a90-a94b-af74d60f05fe"
      },
      "execution_count": 283,
      "outputs": [
        {
          "output_type": "execute_result",
          "data": {
            "text/plain": [
              "tinyVgg(\n",
              "  (conv_block_1): Sequential(\n",
              "    (0): Conv2d(3, 10, kernel_size=(3, 3), stride=(1, 1), padding=(1, 1))\n",
              "    (1): ReLU()\n",
              "    (2): Conv2d(10, 10, kernel_size=(3, 3), stride=(1, 1), padding=(1, 1))\n",
              "    (3): ReLU()\n",
              "    (4): MaxPool2d(kernel_size=2, stride=2, padding=0, dilation=1, ceil_mode=False)\n",
              "  )\n",
              "  (conv_block_2): Sequential(\n",
              "    (0): Conv2d(10, 10, kernel_size=(3, 3), stride=(1, 1), padding=(1, 1))\n",
              "    (1): ReLU()\n",
              "    (2): Conv2d(10, 10, kernel_size=(3, 3), stride=(1, 1), padding=(1, 1))\n",
              "    (3): ReLU()\n",
              "    (4): MaxPool2d(kernel_size=2, stride=2, padding=0, dilation=1, ceil_mode=False)\n",
              "  )\n",
              "  (classifier): Sequential(\n",
              "    (0): Flatten(start_dim=1, end_dim=-1)\n",
              "    (1): Linear(in_features=2560, out_features=9, bias=True)\n",
              "  )\n",
              ")"
            ]
          },
          "metadata": {},
          "execution_count": 283
        }
      ]
    },
    {
      "cell_type": "code",
      "source": [
        "# Download custom image\n",
        "import requests\n",
        "\n",
        "# Setup custom image path\n",
        "custom_image_path = data_path / \"04-pizzaag-dad.jpeg\"\n",
        "\n",
        "# Download the image if it doesn't already exist\n",
        "if not custom_image_path.is_file():\n",
        "    with open(custom_image_path, \"wb\") as f:\n",
        "        # When downloading from GitHub, need to use the \"raw\" file link\n",
        "        # request = requests.get(\"https://raw.githubusercontent.com/mrdbourke/pytorch-deep-learning/main/images/04-pizza-dad.jpeg\")\n",
        "        request = requests.get(\"https://github.com/bongaaaaA/datasets/blob/main/brown%20-%20Copy%20(12).png?raw=true\")\n",
        "        print(f\"Downloading {custom_image_path}...\")\n",
        "        f.write(request.content)\n",
        "else:\n",
        "    print(f\"{custom_image_path} already exists, skipping download.\")"
      ],
      "metadata": {
        "colab": {
          "base_uri": "https://localhost:8080/"
        },
        "id": "wRBT_b5k_IdR",
        "outputId": "9b29841d-5a19-4a86-d083-4a15c51a5bde"
      },
      "execution_count": 284,
      "outputs": [
        {
          "output_type": "stream",
          "name": "stdout",
          "text": [
            "data/04-pizzaag-dad.jpeg already exists, skipping download.\n"
          ]
        }
      ]
    },
    {
      "cell_type": "code",
      "source": [
        "# custom_image_path2 = \"/content/data/color_blindness/Color Recognition/Train/brown/brown - Copy (11).png\""
      ],
      "metadata": {
        "id": "iTvF4jYQEfIQ"
      },
      "execution_count": 285,
      "outputs": []
    },
    {
      "cell_type": "code",
      "source": [],
      "metadata": {
        "id": "cGlSoY3IEr3M"
      },
      "execution_count": 285,
      "outputs": []
    },
    {
      "cell_type": "code",
      "source": [
        "import torchvision\n",
        "\n",
        "# Read in custom image\n",
        "custom_image_uint8 = torchvision.io.read_image(str(custom_image_path))\n",
        "\n",
        "# Print out image data\n",
        "print(f\"Custom image tensor:\\n{custom_image_uint8}\\n\")\n",
        "print(f\"Custom image shape: {custom_image_uint8.shape}\\n\")\n",
        "print(f\"Custom image dtype: {custom_image_uint8.dtype}\")"
      ],
      "metadata": {
        "colab": {
          "base_uri": "https://localhost:8080/"
        },
        "id": "YRwj0DgF_KG9",
        "outputId": "3a61be0e-0d21-4f98-f603-81137310b403"
      },
      "execution_count": 286,
      "outputs": [
        {
          "output_type": "stream",
          "name": "stdout",
          "text": [
            "Custom image tensor:\n",
            "tensor([[[  0,   0,   0,  ...,   0, 245,  86],\n",
            "         [  0,   0,   0,  ...,  76,  39, 221],\n",
            "         [  0,   0,   0,  ...,   0,   8,   0],\n",
            "         ...,\n",
            "         [  0,   0,   0,  ...,   9,  39, 221],\n",
            "         [  0,   0,   0,  ...,   0, 112, 143],\n",
            "         [  0,   0,   0,  ...,   0,   0,   0]]], dtype=torch.uint8)\n",
            "\n",
            "Custom image shape: torch.Size([1, 200, 150])\n",
            "\n",
            "Custom image dtype: torch.uint8\n"
          ]
        }
      ]
    },
    {
      "cell_type": "code",
      "source": [
        "# Load in custom image and convert the tensor values to float32\n",
        "custom_image = torchvision.io.read_image(str(custom_image_path)).type(torch.float32)\n",
        "\n",
        "# Divide the image pixel values by 255 to get them between [0, 1]\n",
        "custom_image = custom_image / 255.\n",
        "\n",
        "# Print out image data\n",
        "print(f\"Custom image tensor:\\n{custom_image}\\n\")\n",
        "print(f\"Custom image shape: {custom_image.shape}\\n\")\n",
        "print(f\"Custom image dtype: {custom_image.dtype}\")"
      ],
      "metadata": {
        "colab": {
          "base_uri": "https://localhost:8080/"
        },
        "id": "iI1jB1hT_OL5",
        "outputId": "f5035885-a58e-41e5-fff8-f87bd7760eba"
      },
      "execution_count": 287,
      "outputs": [
        {
          "output_type": "stream",
          "name": "stdout",
          "text": [
            "Custom image tensor:\n",
            "tensor([[[0.0000, 0.0000, 0.0000,  ..., 0.2235, 0.0941, 0.4941],\n",
            "         [0.0000, 0.0000, 0.0000,  ..., 0.0000, 0.0000, 0.0000],\n",
            "         [0.0000, 0.0000, 0.0000,  ..., 0.0000, 0.2824, 0.4471],\n",
            "         ...,\n",
            "         [0.0000, 0.0000, 0.0000,  ..., 0.0000, 0.0000, 0.0000],\n",
            "         [0.0000, 0.0000, 0.0000,  ..., 0.0000, 0.0000, 0.0000],\n",
            "         [0.0000, 0.0000, 0.0000,  ..., 0.3373, 0.0000, 0.0000]]])\n",
            "\n",
            "Custom image shape: torch.Size([1, 200, 150])\n",
            "\n",
            "Custom image dtype: torch.float32\n"
          ]
        }
      ]
    },
    {
      "cell_type": "code",
      "source": [
        "# Plot custom image\n",
        "plt.imshow(custom_image.permute(1, 2, 0)) # need to permute image dimensions from CHW -> HWC otherwise matplotlib will error\n",
        "plt.title(f\"Image shape: {custom_image.shape}\")\n",
        "plt.axis(False);"
      ],
      "metadata": {
        "colab": {
          "base_uri": "https://localhost:8080/",
          "height": 428
        },
        "id": "9vx8eJQL_VlG",
        "outputId": "f48f0704-1cdb-4aa7-9096-49b0c28902c0"
      },
      "execution_count": 288,
      "outputs": [
        {
          "output_type": "display_data",
          "data": {
            "text/plain": [
              "<Figure size 640x480 with 1 Axes>"
            ],
            "image/png": "[encoded data removed]"
          },
          "metadata": {}
        }
      ]
    },
    {
      "cell_type": "code",
      "source": [
        "# Create transform pipleine to resize image\n",
        "custom_image_transform = transforms.Compose([\n",
        "    transforms.Resize((64, 64)),\n",
        "    transforms.Lambda(lambda x: x.expand(3, -1, -1))\n",
        "])\n",
        "\n",
        "# Transform target image\n",
        "custom_image_transformed = custom_image_transform(custom_image)\n",
        "\n",
        "# Print out original shape and new shape\n",
        "print(f\"Original shape: {custom_image.shape}\")\n",
        "print(f\"New shape: {custom_image_transformed.shape}\")"
      ],
      "metadata": {
        "colab": {
          "base_uri": "https://localhost:8080/"
        },
        "id": "lszVtU78_Z72",
        "outputId": "cdfb8cf1-a7e3-4af8-f672-9aa3ae681c92"
      },
      "execution_count": 291,
      "outputs": [
        {
          "output_type": "stream",
          "name": "stdout",
          "text": [
            "Original shape: torch.Size([1, 200, 150])\n",
            "New shape: torch.Size([3, 64, 64])\n"
          ]
        }
      ]
    },
    {
      "cell_type": "code",
      "source": [
        "model_0.eval()\n",
        "with torch.inference_mode():\n",
        "    # Add an extra dimension to image\n",
        "    custom_image_transformed_with_batch_size = custom_image_transformed.unsqueeze(dim=0)\n",
        "\n",
        "    # Print out different shapes\n",
        "    print(f\"Custom image transformed shape: {custom_image_transformed.shape}\")\n",
        "    print(f\"Unsqueezed custom image shape: {custom_image_transformed_with_batch_size.shape}\")\n",
        "\n",
        "    # Make a prediction on image with an extra dimension\n",
        "    custom_image_pred = model_0(custom_image_transformed.unsqueeze(dim=0).to(device))"
      ],
      "metadata": {
        "colab": {
          "base_uri": "https://localhost:8080/"
        },
        "id": "lWSs-IrH_hwb",
        "outputId": "29321fad-8a5b-4590-ef88-a3f108ba99fe"
      },
      "execution_count": 292,
      "outputs": [
        {
          "output_type": "stream",
          "name": "stdout",
          "text": [
            "Custom image transformed shape: torch.Size([3, 64, 64])\n",
            "Unsqueezed custom image shape: torch.Size([1, 3, 64, 64])\n"
          ]
        }
      ]
    },
    {
      "cell_type": "code",
      "source": [
        "custom_image_pred"
      ],
      "metadata": {
        "colab": {
          "base_uri": "https://localhost:8080/"
        },
        "id": "x6YydF2Y_xDE",
        "outputId": "b2ad6637-12db-4c7b-a97b-253bb75b814f"
      },
      "execution_count": 293,
      "outputs": [
        {
          "output_type": "execute_result",
          "data": {
            "text/plain": [
              "tensor([[  7.3319,  -7.2667,   1.7744,   0.6710, -22.0448,  -7.5566,   0.6796,\n",
              "         -15.9905, -24.0524]], device='cuda:0')"
            ]
          },
          "metadata": {},
          "execution_count": 293
        }
      ]
    },
    {
      "cell_type": "code",
      "source": [
        "# Print out prediction logits\n",
        "print(f\"Prediction logits: {custom_image_pred}\")\n",
        "\n",
        "# Convert logits -> prediction probabilities (using torch.softmax() for multi-class classification)\n",
        "custom_image_pred_probs = torch.softmax(custom_image_pred, dim=1)\n",
        "print(f\"Prediction probabilities: {custom_image_pred_probs}\")\n",
        "\n",
        "# Convert prediction probabilities -> prediction labels\n",
        "custom_image_pred_label = torch.argmax(custom_image_pred_probs, dim=1)\n",
        "print(f\"Prediction label: {custom_image_pred_label}\")"
      ],
      "metadata": {
        "colab": {
          "base_uri": "https://localhost:8080/"
        },
        "id": "W7-m9Bom_zPn",
        "outputId": "aae6a08a-c93d-4ab8-d6d3-17626d7bcfb3"
      },
      "execution_count": 294,
      "outputs": [
        {
          "output_type": "stream",
          "name": "stdout",
          "text": [
            "Prediction logits: tensor([[  7.3319,  -7.2667,   1.7744,   0.6710, -22.0448,  -7.5566,   0.6796,\n",
            "         -15.9905, -24.0524]], device='cuda:0')\n",
            "Prediction probabilities: tensor([[9.9361e-01, 4.5409e-07, 3.8339e-03, 1.2718e-03, 1.7340e-13, 3.3978e-07,\n",
            "         1.2828e-03, 7.3864e-11, 2.3291e-14]], device='cuda:0')\n",
            "Prediction label: tensor([0], device='cuda:0')\n"
          ]
        }
      ]
    },
    {
      "cell_type": "code",
      "source": [
        "########################################################################################################################################################################"
      ],
      "metadata": {
        "id": "g5mbTAI9KRaU"
      },
      "execution_count": 301,
      "outputs": []
    },
    {
      "cell_type": "code",
      "source": [
        "# Find the predicted label\n",
        "custom_image_pred_class = train_data_custom.classes[custom_image_pred_label.cpu()] # put pred label to CPU, otherwise will error\n",
        "custom_image_pred_class"
      ],
      "metadata": {
        "colab": {
          "base_uri": "https://localhost:8080/",
          "height": 36
        },
        "id": "-05dGjoe_41o",
        "outputId": "dfe3a40b-fc47-4798-86d1-97e21b4abbb7"
      },
      "execution_count": 295,
      "outputs": [
        {
          "output_type": "execute_result",
          "data": {
            "text/plain": [
              "'Black'"
            ],
            "application/vnd.google.colaboratory.intrinsic+json": {
              "type": "string"
            }
          },
          "metadata": {},
          "execution_count": 295
        }
      ]
    },
    {
      "cell_type": "code",
      "source": [
        "# The values of the prediction probabilities are quite similar\n",
        "custom_image_pred_probs"
      ],
      "metadata": {
        "colab": {
          "base_uri": "https://localhost:8080/"
        },
        "id": "HizQRalRAJNd",
        "outputId": "3e1d1e3c-581e-48b6-ebc6-af89dd0940a2"
      },
      "execution_count": 296,
      "outputs": [
        {
          "output_type": "execute_result",
          "data": {
            "text/plain": [
              "tensor([[9.9361e-01, 4.5409e-07, 3.8339e-03, 1.2718e-03, 1.7340e-13, 3.3978e-07,\n",
              "         1.2828e-03, 7.3864e-11, 2.3291e-14]], device='cuda:0')"
            ]
          },
          "metadata": {},
          "execution_count": 296
        }
      ]
    },
    {
      "cell_type": "code",
      "source": [],
      "metadata": {
        "id": "o31V6xQVAKuZ"
      },
      "execution_count": null,
      "outputs": []
    },
    {
      "cell_type": "code",
      "execution_count": 302,
      "metadata": {
        "id": "2B-STHI6SAJm",
        "colab": {
          "base_uri": "https://localhost:8080/"
        },
        "outputId": "d7bbb218-7cec-47a7-ac3f-3d0762086594"
      },
      "outputs": [
        {
          "output_type": "execute_result",
          "data": {
            "text/plain": [
              "tensor([[3.8965e-28, 8.7886e-36, 9.0787e-11, 8.0385e-30, 8.7808e-04, 1.3909e-03,\n",
              "         1.7663e-37, 9.9773e-01, 4.6321e-11],\n",
              "        [4.2613e-22, 9.9999e-01, 3.5982e-38, 3.6681e-33, 0.0000e+00, 0.0000e+00,\n",
              "         7.3015e-06, 0.0000e+00, 0.0000e+00]])"
            ]
          },
          "metadata": {},
          "execution_count": 302
        }
      ],
      "source": [
        "# Make predictions on test samples with model 2\n",
        "pred_probs= make_predictions(model=model_0,\n",
        "                             data=test_samples)\n",
        "\n",
        "# View first two prediction probabilities list\n",
        "pred_probs[:2]"
      ]
    },
    {
      "cell_type": "code",
      "execution_count": 303,
      "metadata": {
        "id": "dyye_-zNSmH_",
        "colab": {
          "base_uri": "https://localhost:8080/"
        },
        "outputId": "f3efcc5e-ed2d-4f44-e56d-54bfbe508259"
      },
      "outputs": [
        {
          "output_type": "execute_result",
          "data": {
            "text/plain": [
              "tensor([[3.8965e-28, 8.7886e-36, 9.0787e-11, 8.0385e-30, 8.7808e-04, 1.3909e-03,\n",
              "         1.7663e-37, 9.9773e-01, 4.6321e-11],\n",
              "        [4.2613e-22, 9.9999e-01, 3.5982e-38, 3.6681e-33, 0.0000e+00, 0.0000e+00,\n",
              "         7.3015e-06, 0.0000e+00, 0.0000e+00]])"
            ]
          },
          "metadata": {},
          "execution_count": 303
        }
      ],
      "source": [
        "pred_probs= make_predictions(model=model_0,\n",
        "                             data=test_samples)\n",
        "\n",
        "# View first two prediction probabilities list\n",
        "pred_probs[:2]"
      ]
    },
    {
      "cell_type": "code",
      "execution_count": 304,
      "metadata": {
        "id": "P6cOIujVSmLc",
        "colab": {
          "base_uri": "https://localhost:8080/"
        },
        "outputId": "facfafd1-638d-4d7a-fad5-b26b743d7bf2"
      },
      "outputs": [
        {
          "output_type": "execute_result",
          "data": {
            "text/plain": [
              "tensor([7, 1, 0, 3, 2, 2, 1, 1, 6])"
            ]
          },
          "metadata": {},
          "execution_count": 304
        }
      ],
      "source": [
        "pred_classes = pred_probs.argmax(dim=1)\n",
        "pred_classes"
      ]
    },
    {
      "cell_type": "code",
      "execution_count": 305,
      "metadata": {
        "id": "99vOvxPQSvCg",
        "colab": {
          "base_uri": "https://localhost:8080/"
        },
        "outputId": "8bc374ff-c2de-4ea5-faf2-3bf491bce3b9"
      },
      "outputs": [
        {
          "output_type": "execute_result",
          "data": {
            "text/plain": [
              "([7, 1, 0, 3, 2, 2, 1, 1, 6], tensor([7, 1, 0, 3, 2, 2, 1, 1, 6]))"
            ]
          },
          "metadata": {},
          "execution_count": 305
        }
      ],
      "source": [
        "test_labels, pred_classes"
      ]
    },
    {
      "cell_type": "code",
      "execution_count": 306,
      "metadata": {
        "id": "sZii100nS0KF",
        "colab": {
          "base_uri": "https://localhost:8080/",
          "height": 749
        },
        "outputId": "a973fb7b-2b5d-4248-ccc8-c9d92a9fc918"
      },
      "outputs": [
        {
          "output_type": "display_data",
          "data": {
            "text/plain": [
              "<Figure size 900x900 with 9 Axes>"
            ],
            "image/png": "[encoded data removed]"
          },
          "metadata": {}
        }
      ],
      "source": [
        "# Plot predictions\n",
        "plt.figure(figsize=(9, 9))\n",
        "nrows = 3\n",
        "ncols = 3\n",
        "for i, sample in enumerate(test_samples):\n",
        "  # Create a subplot\n",
        "  plt.subplot(nrows, ncols, i+1)\n",
        "\n",
        "  # Plot the target image\n",
        "  plt.imshow(sample.squeeze(0).permute(1,2,0), cmap=\"gray\")\n",
        "\n",
        "  # Find the prediction label (in text form, e.g. \"Sandal\")\n",
        "  pred_label = train_data.classes[pred_classes[i]]\n",
        "\n",
        "  # Get the truth label (in text form, e.g. \"T-shirt\")\n",
        "  truth_label = train_data.classes[test_labels[i]]\n",
        "\n",
        "  # Create the title text of the plot\n",
        "  title_text = f\"Pred: {pred_label} | Truth: {truth_label}\"\n",
        "\n",
        "  # Check for equality and change title colour accordingly\n",
        "  if pred_label == truth_label:\n",
        "      plt.title(title_text, fontsize=10, c=\"g\") # green text if correct\n",
        "  else:\n",
        "      plt.title(title_text, fontsize=10, c=\"r\") # red text if wrong\n",
        "  plt.axis(False);"
      ]
    },
    {
      "cell_type": "code",
      "execution_count": 307,
      "metadata": {
        "id": "gZm_lSclTWVy",
        "colab": {
          "base_uri": "https://localhost:8080/",
          "height": 105,
          "referenced_widgets": [
            "b639fd3f0e2e4f1b8a8791d029d414a0",
            "a84736fe28414bb29bad422bdce9bbe0",
            "1ea4e2a544774e209104edc12feee6ea",
            "c0165dbbb6c543d3872453ff2ac7f3ec",
            "bd46dc5fb3a747ad9b71df2bfe20fefa",
            "9814a97c687044598d81cd2bc1aa56ad",
            "ab13af99d00b4b7ea13e37ab3b7f32ec",
            "d86f7b3614e84be489b2ab82779ec7bc",
            "2102037115c444269f8865fc19960da5",
            "cf8364a0cee44c7f8d29cc41a37ae30c",
            "9f5dec7f16ac4871999feac5da982baa"
          ]
        },
        "outputId": "fbf03dcb-e0d6-48ec-cdc5-36973c9a6d52"
      },
      "outputs": [
        {
          "output_type": "stream",
          "name": "stderr",
          "text": [
            "/usr/lib/python3.10/multiprocessing/popen_fork.py:66: RuntimeWarning: os.fork() was called. os.fork() is incompatible with multithreaded code, and JAX is multithreaded, so this will likely lead to a deadlock.\n",
            "  self.pid = os.fork()\n"
          ]
        },
        {
          "output_type": "display_data",
          "data": {
            "text/plain": [
              "Making predictions:   0%|          | 0/2 [00:00<?, ?it/s]"
            ],
            "application/vnd.jupyter.widget-view+json": {
              "version_major": 2,
              "version_minor": 0,
              "model_id": "b639fd3f0e2e4f1b8a8791d029d414a0"
            }
          },
          "metadata": {}
        }
      ],
      "source": [
        "# Import tqdm for progress bar\n",
        "from tqdm.auto import tqdm\n",
        "\n",
        "# 1. Make predictions with trained model\n",
        "y_preds = []\n",
        "model_0.eval()\n",
        "with torch.inference_mode():\n",
        "  for X, y in tqdm(test_dataloader, desc=\"Making predictions\"):\n",
        "    # Send data and targets to target device\n",
        "    X, y = X.to(device), y.to(device)\n",
        "    # Do the forward pass\n",
        "    y_logit = model_0(X)\n",
        "    # Turn predictions from logits -> prediction probabilities -> predictions labels\n",
        "    y_pred = torch.softmax(y_logit, dim=1).argmax(dim=1) # note: perform softmax on the \"logits\" dimension, not \"batch\" dimension (in this case we have a batch size of 32, so can perform on dim=1)\n",
        "    # Put predictions on CPU for evaluation\n",
        "    y_preds.append(y_pred.cpu())\n",
        "# Concatenate list of predictions into a tensor\n",
        "y_pred_tensor = torch.cat(y_preds)"
      ]
    },
    {
      "cell_type": "code",
      "execution_count": null,
      "metadata": {
        "id": "aE5NhuTwTivp"
      },
      "outputs": [],
      "source": [
        "# !pip install torchmetrics"
      ]
    },
    {
      "cell_type": "code",
      "execution_count": 308,
      "metadata": {
        "id": "se7CCo3kTWYM",
        "colab": {
          "base_uri": "https://localhost:8080/"
        },
        "outputId": "4152f526-d8e0-460f-b291-d22ca4f7c4cc"
      },
      "outputs": [
        {
          "output_type": "stream",
          "name": "stdout",
          "text": [
            "mlxtend version: 0.23.1\n"
          ]
        }
      ],
      "source": [
        "# See if torchmetrics exists, if not, install it\n",
        "\n",
        "try:\n",
        "    import torchmetrics, mlxtend\n",
        "    print(f\"mlxtend version: {mlxtend.__version__}\")\n",
        "    assert int(mlxtend.__version__.split(\".\")[1]) >= 19, \"mlxtend verison should be 0.19.0 or higher\"\n",
        "except:\n",
        "    !pip install -q torchmetrics -U mlxtend # <- Note: If you're using Google Colab, this may require restarting the runtime\n",
        "    import torchmetrics, mlxtend\n",
        "    print(f\"mlxtend version: {mlxtend.__version__}\")"
      ]
    },
    {
      "cell_type": "code",
      "execution_count": 309,
      "metadata": {
        "id": "izDLUt7OTWau",
        "colab": {
          "base_uri": "https://localhost:8080/"
        },
        "outputId": "ef09637c-5d92-4e8e-ef1b-f4e0d8947d07"
      },
      "outputs": [
        {
          "output_type": "stream",
          "name": "stdout",
          "text": [
            "0.23.1\n"
          ]
        }
      ],
      "source": [
        "import mlxtend\n",
        "print(mlxtend.__version__)\n",
        "assert int(mlxtend.__version__.split(\".\")[1]) >= 19"
      ]
    },
    {
      "cell_type": "code",
      "execution_count": null,
      "metadata": {
        "id": "2UzLCyCPTWfg"
      },
      "outputs": [],
      "source": [
        "# from pathlib import Path\n",
        "\n",
        "\n",
        "# MODEL_PATH = Path(\"models\")\n",
        "# MODEL_PATH.mkdir(parents=True,\n",
        "#                  exist_ok=True\n",
        "# )\n",
        "\n",
        "# # Create model save path\n",
        "# MODEL_NAME = \"03_pytorch_computer_vision_model_2.pth\"\n",
        "# MODEL_SAVE_PATH = MODEL_PATH / MODEL_NAME\n",
        "\n",
        "# # Save the model state dict\n",
        "# print(f\"Saving model to: {MODEL_SAVE_PATH}\")\n",
        "# torch.save(obj=model_0.state_dict(), # only saving the state_dict() only saves the learned parameters\n",
        "#            f=MODEL_SAVE_PATH)"
      ]
    }
  ],
  "metadata": {
    "accelerator": "GPU",
    "colab": {
      "gpuType": "T4",
      "provenance": [],
      "authorship_tag": "ABX9TyMcbS4OdHYxP9olwkHKDfmS",
      "include_colab_link": true
    },
    "kernelspec": {
      "display_name": "Python 3",
      "name": "python3"
    },
    "language_info": {
      "name": "python"
    },
    "widgets": {
      "application/vnd.jupyter.widget-state+json": {
        "b5bccc4f23f14369b2169f147eb5888c": {
          "model_module": "@jupyter-widgets/controls",
          "model_name": "HBoxModel",
          "model_module_version": "1.5.0",
          "state": {
            "_dom_classes": [],
            "_model_module": "@jupyter-widgets/controls",
            "_model_module_version": "1.5.0",
            "_model_name": "HBoxModel",
            "_view_count": null,
            "_view_module": "@jupyter-widgets/controls",
            "_view_module_version": "1.5.0",
            "_view_name": "HBoxView",
            "box_style": "",
            "children": [
              "IPY_MODEL_f8f2bfa3efdb45c782f98faa01f83853",
              "IPY_MODEL_76d0be5d321347acadf4cc708afeb89d",
              "IPY_MODEL_977b526426d045ad85dc5d24e4e16552"
            ],
            "layout": "IPY_MODEL_8247ee0d38ec40c4a6725c0d832eea16"
          }
        },
        "f8f2bfa3efdb45c782f98faa01f83853": {
          "model_module": "@jupyter-widgets/controls",
          "model_name": "HTMLModel",
          "model_module_version": "1.5.0",
          "state": {
            "_dom_classes": [],
            "_model_module": "@jupyter-widgets/controls",
            "_model_module_version": "1.5.0",
            "_model_name": "HTMLModel",
            "_view_count": null,
            "_view_module": "@jupyter-widgets/controls",
            "_view_module_version": "1.5.0",
            "_view_name": "HTMLView",
            "description": "",
            "description_tooltip": null,
            "layout": "IPY_MODEL_5e07be51970347f494e5c5f82f4af812",
            "placeholder": "​",
            "style": "IPY_MODEL_43b986624c05412bbd5e4ce7d99c7ebe",
            "value": "100%"
          }
        },
        "76d0be5d321347acadf4cc708afeb89d": {
          "model_module": "@jupyter-widgets/controls",
          "model_name": "FloatProgressModel",
          "model_module_version": "1.5.0",
          "state": {
            "_dom_classes": [],
            "_model_module": "@jupyter-widgets/controls",
            "_model_module_version": "1.5.0",
            "_model_name": "FloatProgressModel",
            "_view_count": null,
            "_view_module": "@jupyter-widgets/controls",
            "_view_module_version": "1.5.0",
            "_view_name": "ProgressView",
            "bar_style": "success",
            "description": "",
            "description_tooltip": null,
            "layout": "IPY_MODEL_b23a0a25a47c410f9e0a4e551157e0b4",
            "max": 12,
            "min": 0,
            "orientation": "horizontal",
            "style": "IPY_MODEL_2726f33624f74d7a8777f6e5b44e329f",
            "value": 12
          }
        },
        "977b526426d045ad85dc5d24e4e16552": {
          "model_module": "@jupyter-widgets/controls",
          "model_name": "HTMLModel",
          "model_module_version": "1.5.0",
          "state": {
            "_dom_classes": [],
            "_model_module": "@jupyter-widgets/controls",
            "_model_module_version": "1.5.0",
            "_model_name": "HTMLModel",
            "_view_count": null,
            "_view_module": "@jupyter-widgets/controls",
            "_view_module_version": "1.5.0",
            "_view_name": "HTMLView",
            "description": "",
            "description_tooltip": null,
            "layout": "IPY_MODEL_fa2bd160499b4259983b53d5383ec890",
            "placeholder": "​",
            "style": "IPY_MODEL_3ecd644ddf7f4e95bfb0452a1cfe4711",
            "value": " 12/12 [00:09&lt;00:00,  1.07it/s]"
          }
        },
        "8247ee0d38ec40c4a6725c0d832eea16": {
          "model_module": "@jupyter-widgets/base",
          "model_name": "LayoutModel",
          "model_module_version": "1.2.0",
          "state": {
            "_model_module": "@jupyter-widgets/base",
            "_model_module_version": "1.2.0",
            "_model_name": "LayoutModel",
            "_view_count": null,
            "_view_module": "@jupyter-widgets/base",
            "_view_module_version": "1.2.0",
            "_view_name": "LayoutView",
            "align_content": null,
            "align_items": null,
            "align_self": null,
            "border": null,
            "bottom": null,
            "display": null,
            "flex": null,
            "flex_flow": null,
            "grid_area": null,
            "grid_auto_columns": null,
            "grid_auto_flow": null,
            "grid_auto_rows": null,
            "grid_column": null,
            "grid_gap": null,
            "grid_row": null,
            "grid_template_areas": null,
            "grid_template_columns": null,
            "grid_template_rows": null,
            "height": null,
            "justify_content": null,
            "justify_items": null,
            "left": null,
            "margin": null,
            "max_height": null,
            "max_width": null,
            "min_height": null,
            "min_width": null,
            "object_fit": null,
            "object_position": null,
            "order": null,
            "overflow": null,
            "overflow_x": null,
            "overflow_y": null,
            "padding": null,
            "right": null,
            "top": null,
            "visibility": null,
            "width": null
          }
        },
        "5e07be51970347f494e5c5f82f4af812": {
          "model_module": "@jupyter-widgets/base",
          "model_name": "LayoutModel",
          "model_module_version": "1.2.0",
          "state": {
            "_model_module": "@jupyter-widgets/base",
            "_model_module_version": "1.2.0",
            "_model_name": "LayoutModel",
            "_view_count": null,
            "_view_module": "@jupyter-widgets/base",
            "_view_module_version": "1.2.0",
            "_view_name": "LayoutView",
            "align_content": null,
            "align_items": null,
            "align_self": null,
            "border": null,
            "bottom": null,
            "display": null,
            "flex": null,
            "flex_flow": null,
            "grid_area": null,
            "grid_auto_columns": null,
            "grid_auto_flow": null,
            "grid_auto_rows": null,
            "grid_column": null,
            "grid_gap": null,
            "grid_row": null,
            "grid_template_areas": null,
            "grid_template_columns": null,
            "grid_template_rows": null,
            "height": null,
            "justify_content": null,
            "justify_items": null,
            "left": null,
            "margin": null,
            "max_height": null,
            "max_width": null,
            "min_height": null,
            "min_width": null,
            "object_fit": null,
            "object_position": null,
            "order": null,
            "overflow": null,
            "overflow_x": null,
            "overflow_y": null,
            "padding": null,
            "right": null,
            "top": null,
            "visibility": null,
            "width": null
          }
        },
        "43b986624c05412bbd5e4ce7d99c7ebe": {
          "model_module": "@jupyter-widgets/controls",
          "model_name": "DescriptionStyleModel",
          "model_module_version": "1.5.0",
          "state": {
            "_model_module": "@jupyter-widgets/controls",
            "_model_module_version": "1.5.0",
            "_model_name": "DescriptionStyleModel",
            "_view_count": null,
            "_view_module": "@jupyter-widgets/base",
            "_view_module_version": "1.2.0",
            "_view_name": "StyleView",
            "description_width": ""
          }
        },
        "b23a0a25a47c410f9e0a4e551157e0b4": {
          "model_module": "@jupyter-widgets/base",
          "model_name": "LayoutModel",
          "model_module_version": "1.2.0",
          "state": {
            "_model_module": "@jupyter-widgets/base",
            "_model_module_version": "1.2.0",
            "_model_name": "LayoutModel",
            "_view_count": null,
            "_view_module": "@jupyter-widgets/base",
            "_view_module_version": "1.2.0",
            "_view_name": "LayoutView",
            "align_content": null,
            "align_items": null,
            "align_self": null,
            "border": null,
            "bottom": null,
            "display": null,
            "flex": null,
            "flex_flow": null,
            "grid_area": null,
            "grid_auto_columns": null,
            "grid_auto_flow": null,
            "grid_auto_rows": null,
            "grid_column": null,
            "grid_gap": null,
            "grid_row": null,
            "grid_template_areas": null,
            "grid_template_columns": null,
            "grid_template_rows": null,
            "height": null,
            "justify_content": null,
            "justify_items": null,
            "left": null,
            "margin": null,
            "max_height": null,
            "max_width": null,
            "min_height": null,
            "min_width": null,
            "object_fit": null,
            "object_position": null,
            "order": null,
            "overflow": null,
            "overflow_x": null,
            "overflow_y": null,
            "padding": null,
            "right": null,
            "top": null,
            "visibility": null,
            "width": null
          }
        },
        "2726f33624f74d7a8777f6e5b44e329f": {
          "model_module": "@jupyter-widgets/controls",
          "model_name": "ProgressStyleModel",
          "model_module_version": "1.5.0",
          "state": {
            "_model_module": "@jupyter-widgets/controls",
            "_model_module_version": "1.5.0",
            "_model_name": "ProgressStyleModel",
            "_view_count": null,
            "_view_module": "@jupyter-widgets/base",
            "_view_module_version": "1.2.0",
            "_view_name": "StyleView",
            "bar_color": null,
            "description_width": ""
          }
        },
        "fa2bd160499b4259983b53d5383ec890": {
          "model_module": "@jupyter-widgets/base",
          "model_name": "LayoutModel",
          "model_module_version": "1.2.0",
          "state": {
            "_model_module": "@jupyter-widgets/base",
            "_model_module_version": "1.2.0",
            "_model_name": "LayoutModel",
            "_view_count": null,
            "_view_module": "@jupyter-widgets/base",
            "_view_module_version": "1.2.0",
            "_view_name": "LayoutView",
            "align_content": null,
            "align_items": null,
            "align_self": null,
            "border": null,
            "bottom": null,
            "display": null,
            "flex": null,
            "flex_flow": null,
            "grid_area": null,
            "grid_auto_columns": null,
            "grid_auto_flow": null,
            "grid_auto_rows": null,
            "grid_column": null,
            "grid_gap": null,
            "grid_row": null,
            "grid_template_areas": null,
            "grid_template_columns": null,
            "grid_template_rows": null,
            "height": null,
            "justify_content": null,
            "justify_items": null,
            "left": null,
            "margin": null,
            "max_height": null,
            "max_width": null,
            "min_height": null,
            "min_width": null,
            "object_fit": null,
            "object_position": null,
            "order": null,
            "overflow": null,
            "overflow_x": null,
            "overflow_y": null,
            "padding": null,
            "right": null,
            "top": null,
            "visibility": null,
            "width": null
          }
        },
        "3ecd644ddf7f4e95bfb0452a1cfe4711": {
          "model_module": "@jupyter-widgets/controls",
          "model_name": "DescriptionStyleModel",
          "model_module_version": "1.5.0",
          "state": {
            "_model_module": "@jupyter-widgets/controls",
            "_model_module_version": "1.5.0",
            "_model_name": "DescriptionStyleModel",
            "_view_count": null,
            "_view_module": "@jupyter-widgets/base",
            "_view_module_version": "1.2.0",
            "_view_name": "StyleView",
            "description_width": ""
          }
        },
        "b639fd3f0e2e4f1b8a8791d029d414a0": {
          "model_module": "@jupyter-widgets/controls",
          "model_name": "HBoxModel",
          "model_module_version": "1.5.0",
          "state": {
            "_dom_classes": [],
            "_model_module": "@jupyter-widgets/controls",
            "_model_module_version": "1.5.0",
            "_model_name": "HBoxModel",
            "_view_count": null,
            "_view_module": "@jupyter-widgets/controls",
            "_view_module_version": "1.5.0",
            "_view_name": "HBoxView",
            "box_style": "",
            "children": [
              "IPY_MODEL_a84736fe28414bb29bad422bdce9bbe0",
              "IPY_MODEL_1ea4e2a544774e209104edc12feee6ea",
              "IPY_MODEL_c0165dbbb6c543d3872453ff2ac7f3ec"
            ],
            "layout": "IPY_MODEL_bd46dc5fb3a747ad9b71df2bfe20fefa"
          }
        },
        "a84736fe28414bb29bad422bdce9bbe0": {
          "model_module": "@jupyter-widgets/controls",
          "model_name": "HTMLModel",
          "model_module_version": "1.5.0",
          "state": {
            "_dom_classes": [],
            "_model_module": "@jupyter-widgets/controls",
            "_model_module_version": "1.5.0",
            "_model_name": "HTMLModel",
            "_view_count": null,
            "_view_module": "@jupyter-widgets/controls",
            "_view_module_version": "1.5.0",
            "_view_name": "HTMLView",
            "description": "",
            "description_tooltip": null,
            "layout": "IPY_MODEL_9814a97c687044598d81cd2bc1aa56ad",
            "placeholder": "​",
            "style": "IPY_MODEL_ab13af99d00b4b7ea13e37ab3b7f32ec",
            "value": "Making predictions: 100%"
          }
        },
        "1ea4e2a544774e209104edc12feee6ea": {
          "model_module": "@jupyter-widgets/controls",
          "model_name": "FloatProgressModel",
          "model_module_version": "1.5.0",
          "state": {
            "_dom_classes": [],
            "_model_module": "@jupyter-widgets/controls",
            "_model_module_version": "1.5.0",
            "_model_name": "FloatProgressModel",
            "_view_count": null,
            "_view_module": "@jupyter-widgets/controls",
            "_view_module_version": "1.5.0",
            "_view_name": "ProgressView",
            "bar_style": "success",
            "description": "",
            "description_tooltip": null,
            "layout": "IPY_MODEL_d86f7b3614e84be489b2ab82779ec7bc",
            "max": 2,
            "min": 0,
            "orientation": "horizontal",
            "style": "IPY_MODEL_2102037115c444269f8865fc19960da5",
            "value": 2
          }
        },
        "c0165dbbb6c543d3872453ff2ac7f3ec": {
          "model_module": "@jupyter-widgets/controls",
          "model_name": "HTMLModel",
          "model_module_version": "1.5.0",
          "state": {
            "_dom_classes": [],
            "_model_module": "@jupyter-widgets/controls",
            "_model_module_version": "1.5.0",
            "_model_name": "HTMLModel",
            "_view_count": null,
            "_view_module": "@jupyter-widgets/controls",
            "_view_module_version": "1.5.0",
            "_view_name": "HTMLView",
            "description": "",
            "description_tooltip": null,
            "layout": "IPY_MODEL_cf8364a0cee44c7f8d29cc41a37ae30c",
            "placeholder": "​",
            "style": "IPY_MODEL_9f5dec7f16ac4871999feac5da982baa",
            "value": " 2/2 [00:00&lt;00:00,  4.29it/s]"
          }
        },
        "bd46dc5fb3a747ad9b71df2bfe20fefa": {
          "model_module": "@jupyter-widgets/base",
          "model_name": "LayoutModel",
          "model_module_version": "1.2.0",
          "state": {
            "_model_module": "@jupyter-widgets/base",
            "_model_module_version": "1.2.0",
            "_model_name": "LayoutModel",
            "_view_count": null,
            "_view_module": "@jupyter-widgets/base",
            "_view_module_version": "1.2.0",
            "_view_name": "LayoutView",
            "align_content": null,
            "align_items": null,
            "align_self": null,
            "border": null,
            "bottom": null,
            "display": null,
            "flex": null,
            "flex_flow": null,
            "grid_area": null,
            "grid_auto_columns": null,
            "grid_auto_flow": null,
            "grid_auto_rows": null,
            "grid_column": null,
            "grid_gap": null,
            "grid_row": null,
            "grid_template_areas": null,
            "grid_template_columns": null,
            "grid_template_rows": null,
            "height": null,
            "justify_content": null,
            "justify_items": null,
            "left": null,
            "margin": null,
            "max_height": null,
            "max_width": null,
            "min_height": null,
            "min_width": null,
            "object_fit": null,
            "object_position": null,
            "order": null,
            "overflow": null,
            "overflow_x": null,
            "overflow_y": null,
            "padding": null,
            "right": null,
            "top": null,
            "visibility": null,
            "width": null
          }
        },
        "9814a97c687044598d81cd2bc1aa56ad": {
          "model_module": "@jupyter-widgets/base",
          "model_name": "LayoutModel",
          "model_module_version": "1.2.0",
          "state": {
            "_model_module": "@jupyter-widgets/base",
            "_model_module_version": "1.2.0",
            "_model_name": "LayoutModel",
            "_view_count": null,
            "_view_module": "@jupyter-widgets/base",
            "_view_module_version": "1.2.0",
            "_view_name": "LayoutView",
            "align_content": null,
            "align_items": null,
            "align_self": null,
            "border": null,
            "bottom": null,
            "display": null,
            "flex": null,
            "flex_flow": null,
            "grid_area": null,
            "grid_auto_columns": null,
            "grid_auto_flow": null,
            "grid_auto_rows": null,
            "grid_column": null,
            "grid_gap": null,
            "grid_row": null,
            "grid_template_areas": null,
            "grid_template_columns": null,
            "grid_template_rows": null,
            "height": null,
            "justify_content": null,
            "justify_items": null,
            "left": null,
            "margin": null,
            "max_height": null,
            "max_width": null,
            "min_height": null,
            "min_width": null,
            "object_fit": null,
            "object_position": null,
            "order": null,
            "overflow": null,
            "overflow_x": null,
            "overflow_y": null,
            "padding": null,
            "right": null,
            "top": null,
            "visibility": null,
            "width": null
          }
        },
        "ab13af99d00b4b7ea13e37ab3b7f32ec": {
          "model_module": "@jupyter-widgets/controls",
          "model_name": "DescriptionStyleModel",
          "model_module_version": "1.5.0",
          "state": {
            "_model_module": "@jupyter-widgets/controls",
            "_model_module_version": "1.5.0",
            "_model_name": "DescriptionStyleModel",
            "_view_count": null,
            "_view_module": "@jupyter-widgets/base",
            "_view_module_version": "1.2.0",
            "_view_name": "StyleView",
            "description_width": ""
          }
        },
        "d86f7b3614e84be489b2ab82779ec7bc": {
          "model_module": "@jupyter-widgets/base",
          "model_name": "LayoutModel",
          "model_module_version": "1.2.0",
          "state": {
            "_model_module": "@jupyter-widgets/base",
            "_model_module_version": "1.2.0",
            "_model_name": "LayoutModel",
            "_view_count": null,
            "_view_module": "@jupyter-widgets/base",
            "_view_module_version": "1.2.0",
            "_view_name": "LayoutView",
            "align_content": null,
            "align_items": null,
            "align_self": null,
            "border": null,
            "bottom": null,
            "display": null,
            "flex": null,
            "flex_flow": null,
            "grid_area": null,
            "grid_auto_columns": null,
            "grid_auto_flow": null,
            "grid_auto_rows": null,
            "grid_column": null,
            "grid_gap": null,
            "grid_row": null,
            "grid_template_areas": null,
            "grid_template_columns": null,
            "grid_template_rows": null,
            "height": null,
            "justify_content": null,
            "justify_items": null,
            "left": null,
            "margin": null,
            "max_height": null,
            "max_width": null,
            "min_height": null,
            "min_width": null,
            "object_fit": null,
            "object_position": null,
            "order": null,
            "overflow": null,
            "overflow_x": null,
            "overflow_y": null,
            "padding": null,
            "right": null,
            "top": null,
            "visibility": null,
            "width": null
          }
        },
        "2102037115c444269f8865fc19960da5": {
          "model_module": "@jupyter-widgets/controls",
          "model_name": "ProgressStyleModel",
          "model_module_version": "1.5.0",
          "state": {
            "_model_module": "@jupyter-widgets/controls",
            "_model_module_version": "1.5.0",
            "_model_name": "ProgressStyleModel",
            "_view_count": null,
            "_view_module": "@jupyter-widgets/base",
            "_view_module_version": "1.2.0",
            "_view_name": "StyleView",
            "bar_color": null,
            "description_width": ""
          }
        },
        "cf8364a0cee44c7f8d29cc41a37ae30c": {
          "model_module": "@jupyter-widgets/base",
          "model_name": "LayoutModel",
          "model_module_version": "1.2.0",
          "state": {
            "_model_module": "@jupyter-widgets/base",
            "_model_module_version": "1.2.0",
            "_model_name": "LayoutModel",
            "_view_count": null,
            "_view_module": "@jupyter-widgets/base",
            "_view_module_version": "1.2.0",
            "_view_name": "LayoutView",
            "align_content": null,
            "align_items": null,
            "align_self": null,
            "border": null,
            "bottom": null,
            "display": null,
            "flex": null,
            "flex_flow": null,
            "grid_area": null,
            "grid_auto_columns": null,
            "grid_auto_flow": null,
            "grid_auto_rows": null,
            "grid_column": null,
            "grid_gap": null,
            "grid_row": null,
            "grid_template_areas": null,
            "grid_template_columns": null,
            "grid_template_rows": null,
            "height": null,
            "justify_content": null,
            "justify_items": null,
            "left": null,
            "margin": null,
            "max_height": null,
            "max_width": null,
            "min_height": null,
            "min_width": null,
            "object_fit": null,
            "object_position": null,
            "order": null,
            "overflow": null,
            "overflow_x": null,
            "overflow_y": null,
            "padding": null,
            "right": null,
            "top": null,
            "visibility": null,
            "width": null
          }
        },
        "9f5dec7f16ac4871999feac5da982baa": {
          "model_module": "@jupyter-widgets/controls",
          "model_name": "DescriptionStyleModel",
          "model_module_version": "1.5.0",
          "state": {
            "_model_module": "@jupyter-widgets/controls",
            "_model_module_version": "1.5.0",
            "_model_name": "DescriptionStyleModel",
            "_view_count": null,
            "_view_module": "@jupyter-widgets/base",
            "_view_module_version": "1.2.0",
            "_view_name": "StyleView",
            "description_width": ""
          }
        }
      }
    }
  },
  "nbformat": 4,
  "nbformat_minor": 0
}